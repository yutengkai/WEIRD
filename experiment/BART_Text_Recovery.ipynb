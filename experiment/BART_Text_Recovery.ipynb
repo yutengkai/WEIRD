{
  "nbformat": 4,
  "nbformat_minor": 0,
  "metadata": {
    "colab": {
      "provenance": [],
      "gpuType": "A100",
      "machine_shape": "hm"
    },
    "kernelspec": {
      "name": "python3",
      "display_name": "Python 3"
    },
    "language_info": {
      "name": "python"
    },
    "gpuClass": "standard",
    "accelerator": "GPU"
  },
  "cells": [
    {
      "cell_type": "markdown",
      "source": [
        "# 0. Libraries"
      ],
      "metadata": {
        "id": "TTh3NEFjVPmN"
      }
    },
    {
      "cell_type": "code",
      "source": [
        "!pip install datasets -q\n",
        "!pip install transformers -q\n",
        "!pip install sentencepiece -q\n",
        "!pip install rouge -q\n",
        "from datasets import load_dataset\n",
        "import torch\n",
        "from torch.utils.data import TensorDataset, DataLoader\n",
        "import torch.nn as nn\n",
        "from transformers import BertTokenizer, BertModel, EncoderDecoderModel, AdamW,\\\n",
        "T5Tokenizer, T5ForConditionalGeneration, BartTokenizer, BartForConditionalGeneration,\\\n",
        "AutoTokenizer, AutoModelForSeq2SeqLM\n",
        "import pandas as pd\n",
        "from functools import partial\n",
        "import random\n",
        "from sklearn.model_selection import train_test_split\n",
        "from rouge import Rouge"
      ],
      "metadata": {
        "id": "4HYpjqr7VO-P"
      },
      "execution_count": null,
      "outputs": []
    },
    {
      "cell_type": "markdown",
      "source": [
        "# 1. Read Data"
      ],
      "metadata": {
        "id": "eMgVFcSiVcNM"
      }
    },
    {
      "cell_type": "code",
      "execution_count": null,
      "metadata": {
        "colab": {
          "base_uri": "https://localhost:8080/",
          "height": 206
        },
        "id": "cc0GunNHVDNo",
        "outputId": "fa8b4691-c275-4cee-d4c9-ce2b02e9b3c6"
      },
      "outputs": [
        {
          "output_type": "execute_result",
          "data": {
            "text/plain": [
              "                                               claim  \\\n",
              "0  Nikolaj Coster-Waldau worked with the Fox Broa...   \n",
              "1  Nikolaj Coster-Waldau worked with Peter Dinklage.   \n",
              "2               Nikolaj Coster-Waldau was in a film.   \n",
              "3  Game of Thrones (season 1) featured Danish act...   \n",
              "4  Nikolaj Coster-Waldau played Frank Pike in Vir...   \n",
              "\n",
              "                                                text  \n",
              "0  Nikolaj Coster-Waldau -LRB- -LSB- neɡ̊olaɪ̯ kʰ...  \n",
              "1  Nikolaj Coster-Waldau -LRB- -LSB- neɡ̊olaɪ̯ kʰ...  \n",
              "2  Nikolaj Coster-Waldau -LRB- -LSB- neɡ̊olaɪ̯ kʰ...  \n",
              "3  Nikolaj Coster-Waldau -LRB- -LSB- neɡ̊olaɪ̯ kʰ...  \n",
              "4  Nikolaj Coster-Waldau -LRB- -LSB- neɡ̊olaɪ̯ kʰ...  "
            ],
            "text/html": [
              "\n",
              "  <div id=\"df-e831adfc-d029-484a-a7a4-375b7c9ad519\">\n",
              "    <div class=\"colab-df-container\">\n",
              "      <div>\n",
              "<style scoped>\n",
              "    .dataframe tbody tr th:only-of-type {\n",
              "        vertical-align: middle;\n",
              "    }\n",
              "\n",
              "    .dataframe tbody tr th {\n",
              "        vertical-align: top;\n",
              "    }\n",
              "\n",
              "    .dataframe thead th {\n",
              "        text-align: right;\n",
              "    }\n",
              "</style>\n",
              "<table border=\"1\" class=\"dataframe\">\n",
              "  <thead>\n",
              "    <tr style=\"text-align: right;\">\n",
              "      <th></th>\n",
              "      <th>claim</th>\n",
              "      <th>text</th>\n",
              "    </tr>\n",
              "  </thead>\n",
              "  <tbody>\n",
              "    <tr>\n",
              "      <th>0</th>\n",
              "      <td>Nikolaj Coster-Waldau worked with the Fox Broa...</td>\n",
              "      <td>Nikolaj Coster-Waldau -LRB- -LSB- neɡ̊olaɪ̯ kʰ...</td>\n",
              "    </tr>\n",
              "    <tr>\n",
              "      <th>1</th>\n",
              "      <td>Nikolaj Coster-Waldau worked with Peter Dinklage.</td>\n",
              "      <td>Nikolaj Coster-Waldau -LRB- -LSB- neɡ̊olaɪ̯ kʰ...</td>\n",
              "    </tr>\n",
              "    <tr>\n",
              "      <th>2</th>\n",
              "      <td>Nikolaj Coster-Waldau was in a film.</td>\n",
              "      <td>Nikolaj Coster-Waldau -LRB- -LSB- neɡ̊olaɪ̯ kʰ...</td>\n",
              "    </tr>\n",
              "    <tr>\n",
              "      <th>3</th>\n",
              "      <td>Game of Thrones (season 1) featured Danish act...</td>\n",
              "      <td>Nikolaj Coster-Waldau -LRB- -LSB- neɡ̊olaɪ̯ kʰ...</td>\n",
              "    </tr>\n",
              "    <tr>\n",
              "      <th>4</th>\n",
              "      <td>Nikolaj Coster-Waldau played Frank Pike in Vir...</td>\n",
              "      <td>Nikolaj Coster-Waldau -LRB- -LSB- neɡ̊olaɪ̯ kʰ...</td>\n",
              "    </tr>\n",
              "  </tbody>\n",
              "</table>\n",
              "</div>\n",
              "      <button class=\"colab-df-convert\" onclick=\"convertToInteractive('df-e831adfc-d029-484a-a7a4-375b7c9ad519')\"\n",
              "              title=\"Convert this dataframe to an interactive table.\"\n",
              "              style=\"display:none;\">\n",
              "        \n",
              "  <svg xmlns=\"http://www.w3.org/2000/svg\" height=\"24px\"viewBox=\"0 0 24 24\"\n",
              "       width=\"24px\">\n",
              "    <path d=\"M0 0h24v24H0V0z\" fill=\"none\"/>\n",
              "    <path d=\"M18.56 5.44l.94 2.06.94-2.06 2.06-.94-2.06-.94-.94-2.06-.94 2.06-2.06.94zm-11 1L8.5 8.5l.94-2.06 2.06-.94-2.06-.94L8.5 2.5l-.94 2.06-2.06.94zm10 10l.94 2.06.94-2.06 2.06-.94-2.06-.94-.94-2.06-.94 2.06-2.06.94z\"/><path d=\"M17.41 7.96l-1.37-1.37c-.4-.4-.92-.59-1.43-.59-.52 0-1.04.2-1.43.59L10.3 9.45l-7.72 7.72c-.78.78-.78 2.05 0 2.83L4 21.41c.39.39.9.59 1.41.59.51 0 1.02-.2 1.41-.59l7.78-7.78 2.81-2.81c.8-.78.8-2.07 0-2.86zM5.41 20L4 18.59l7.72-7.72 1.47 1.35L5.41 20z\"/>\n",
              "  </svg>\n",
              "      </button>\n",
              "      \n",
              "  <style>\n",
              "    .colab-df-container {\n",
              "      display:flex;\n",
              "      flex-wrap:wrap;\n",
              "      gap: 12px;\n",
              "    }\n",
              "\n",
              "    .colab-df-convert {\n",
              "      background-color: #E8F0FE;\n",
              "      border: none;\n",
              "      border-radius: 50%;\n",
              "      cursor: pointer;\n",
              "      display: none;\n",
              "      fill: #1967D2;\n",
              "      height: 32px;\n",
              "      padding: 0 0 0 0;\n",
              "      width: 32px;\n",
              "    }\n",
              "\n",
              "    .colab-df-convert:hover {\n",
              "      background-color: #E2EBFA;\n",
              "      box-shadow: 0px 1px 2px rgba(60, 64, 67, 0.3), 0px 1px 3px 1px rgba(60, 64, 67, 0.15);\n",
              "      fill: #174EA6;\n",
              "    }\n",
              "\n",
              "    [theme=dark] .colab-df-convert {\n",
              "      background-color: #3B4455;\n",
              "      fill: #D2E3FC;\n",
              "    }\n",
              "\n",
              "    [theme=dark] .colab-df-convert:hover {\n",
              "      background-color: #434B5C;\n",
              "      box-shadow: 0px 1px 3px 1px rgba(0, 0, 0, 0.15);\n",
              "      filter: drop-shadow(0px 1px 2px rgba(0, 0, 0, 0.3));\n",
              "      fill: #FFFFFF;\n",
              "    }\n",
              "  </style>\n",
              "\n",
              "      <script>\n",
              "        const buttonEl =\n",
              "          document.querySelector('#df-e831adfc-d029-484a-a7a4-375b7c9ad519 button.colab-df-convert');\n",
              "        buttonEl.style.display =\n",
              "          google.colab.kernel.accessAllowed ? 'block' : 'none';\n",
              "\n",
              "        async function convertToInteractive(key) {\n",
              "          const element = document.querySelector('#df-e831adfc-d029-484a-a7a4-375b7c9ad519');\n",
              "          const dataTable =\n",
              "            await google.colab.kernel.invokeFunction('convertToInteractive',\n",
              "                                                     [key], {});\n",
              "          if (!dataTable) return;\n",
              "\n",
              "          const docLinkHtml = 'Like what you see? Visit the ' +\n",
              "            '<a target=\"_blank\" href=https://colab.research.google.com/notebooks/data_table.ipynb>data table notebook</a>'\n",
              "            + ' to learn more about interactive tables.';\n",
              "          element.innerHTML = '';\n",
              "          dataTable['output_type'] = 'display_data';\n",
              "          await google.colab.output.renderOutput(dataTable, element);\n",
              "          const docLink = document.createElement('div');\n",
              "          docLink.innerHTML = docLinkHtml;\n",
              "          element.appendChild(docLink);\n",
              "        }\n",
              "      </script>\n",
              "    </div>\n",
              "  </div>\n",
              "  "
            ]
          },
          "metadata": {},
          "execution_count": 3
        }
      ],
      "source": [
        "df = pd.read_csv('/content/drive/MyDrive/DeClare/joint_true_claims.csv')\\\n",
        "  .drop('Unnamed: 0', axis=1)\n",
        "df.head()"
      ]
    },
    {
      "cell_type": "code",
      "source": [
        "df.shape"
      ],
      "metadata": {
        "colab": {
          "base_uri": "https://localhost:8080/"
        },
        "id": "U4W4IZIaVt2d",
        "outputId": "f2fe6645-9729-426a-a057-a8c89c099a46"
      },
      "execution_count": null,
      "outputs": [
        {
          "output_type": "execute_result",
          "data": {
            "text/plain": [
              "(94846, 2)"
            ]
          },
          "metadata": {},
          "execution_count": 4
        }
      ]
    },
    {
      "cell_type": "markdown",
      "source": [
        "# 2. Preprocess the data"
      ],
      "metadata": {
        "id": "5g2mGvl9ea5Q"
      }
    },
    {
      "cell_type": "markdown",
      "source": [
        "## 2.1 Tokenizer"
      ],
      "metadata": {
        "id": "IetuwYPLhVpC"
      }
    },
    {
      "cell_type": "code",
      "source": [
        "# Define the tokenizer\n",
        "bert_tokenizer = BertTokenizer.from_pretrained('bert-base-uncased')\n",
        "t5_tokenizer = T5Tokenizer.from_pretrained('t5-base')\n",
        "bart_tokenizer = BartTokenizer.from_pretrained('facebook/bart-base')"
      ],
      "metadata": {
        "id": "0sThUFNKeGdh",
        "colab": {
          "base_uri": "https://localhost:8080/"
        },
        "outputId": "da8258b2-df8a-43c8-9e6a-0fbbc3c3327e"
      },
      "execution_count": null,
      "outputs": [
        {
          "output_type": "stream",
          "name": "stderr",
          "text": [
            "/usr/local/lib/python3.9/dist-packages/transformers/models/t5/tokenization_t5.py:163: FutureWarning: This tokenizer was incorrectly instantiated with a model max length of 512 which will be corrected in Transformers v5.\n",
            "For now, this behavior is kept to avoid breaking backwards compatibility when padding/encoding with `truncation is True`.\n",
            "- Be aware that you SHOULD NOT rely on t5-base automatically truncating your input to 512 when padding/encoding.\n",
            "- If you want to encode/pad to sequences longer than 512 you can either instantiate this tokenizer with `model_max_length` or pass `max_length` when encoding/padding.\n",
            "- To avoid this warning, please instantiate this tokenizer with `model_max_length` set to your preferred value.\n",
            "  warnings.warn(\n"
          ]
        }
      ]
    },
    {
      "cell_type": "code",
      "source": [
        "i=0\n",
        "for tokenizer in [bert_tokenizer, t5_tokenizer, bart_tokenizer]:\n",
        "  print(i)\n",
        "  i+=1\n",
        "  print(tokenizer.cls_token)\n",
        "  print(tokenizer.sep_token)\n",
        "  print(tokenizer.mask_token)\n",
        "  print(tokenizer.pad_token)"
      ],
      "metadata": {
        "colab": {
          "base_uri": "https://localhost:8080/"
        },
        "id": "nCLmXGNVhYGS",
        "outputId": "70f49cc8-c707-4b78-b2b8-ccda3c656adc"
      },
      "execution_count": null,
      "outputs": [
        {
          "output_type": "stream",
          "name": "stderr",
          "text": [
            "Using cls_token, but it is not set yet.\n",
            "Using sep_token, but it is not set yet.\n",
            "Using mask_token, but it is not set yet.\n"
          ]
        },
        {
          "output_type": "stream",
          "name": "stdout",
          "text": [
            "0\n",
            "[CLS]\n",
            "[SEP]\n",
            "[MASK]\n",
            "[PAD]\n",
            "1\n",
            "None\n",
            "None\n",
            "None\n",
            "<pad>\n",
            "2\n",
            "<s>\n",
            "</s>\n",
            "<mask>\n",
            "<pad>\n"
          ]
        }
      ]
    },
    {
      "cell_type": "code",
      "source": [
        "i=0\n",
        "for tokenizer in [bert_tokenizer, t5_tokenizer, bart_tokenizer]:\n",
        "  print(i)\n",
        "  i+=1\n",
        "  print(tokenizer.cls_token_id)\n",
        "  print(tokenizer.sep_token_id)\n",
        "  print(tokenizer.mask_token_id)\n",
        "  print(tokenizer.pad_token_id)"
      ],
      "metadata": {
        "colab": {
          "base_uri": "https://localhost:8080/"
        },
        "id": "OP_PssoIfIlC",
        "outputId": "d9d2fd37-19f3-4ec4-a2e9-309d2463f179"
      },
      "execution_count": null,
      "outputs": [
        {
          "output_type": "stream",
          "name": "stdout",
          "text": [
            "0\n",
            "101\n",
            "102\n",
            "103\n",
            "0\n",
            "1\n",
            "None\n",
            "None\n",
            "None\n",
            "0\n",
            "2\n",
            "0\n",
            "2\n",
            "50264\n",
            "1\n"
          ]
        }
      ]
    },
    {
      "cell_type": "code",
      "source": [
        "s1 = 'My name is Scott'\n",
        "s2 = 'I love computer science'\n",
        "i=0\n",
        "for tokenizer in [bert_tokenizer, t5_tokenizer, bart_tokenizer]:\n",
        "  print(i)\n",
        "  i+=1\n",
        "  print(tokenizer.encode(s1))\n",
        "  print(tokenizer.encode(s2))\n",
        "  print(s1+str(tokenizer.sep_token)+s2)\n",
        "  print(tokenizer.encode(s1+str(tokenizer.sep_token)+s2))"
      ],
      "metadata": {
        "id": "pIJjaBDLHrHy",
        "colab": {
          "base_uri": "https://localhost:8080/"
        },
        "outputId": "8936325d-3bd7-4c9a-fbb8-d6d717c2ea96"
      },
      "execution_count": null,
      "outputs": [
        {
          "output_type": "stream",
          "name": "stderr",
          "text": [
            "Using sep_token, but it is not set yet.\n",
            "Using sep_token, but it is not set yet.\n"
          ]
        },
        {
          "output_type": "stream",
          "name": "stdout",
          "text": [
            "0\n",
            "[101, 2026, 2171, 2003, 3660, 102]\n",
            "[101, 1045, 2293, 3274, 2671, 102]\n",
            "My name is Scott[SEP]I love computer science\n",
            "[101, 2026, 2171, 2003, 3660, 102, 1045, 2293, 3274, 2671, 102]\n",
            "1\n",
            "[499, 564, 19, 4972, 1]\n",
            "[27, 333, 1218, 2056, 1]\n",
            "My name is ScottNoneI love computer science\n",
            "[499, 564, 19, 4972, 567, 782, 196, 333, 1218, 2056, 1]\n",
            "2\n",
            "[0, 2387, 766, 16, 1699, 2]\n",
            "[0, 100, 657, 3034, 2866, 2]\n",
            "My name is Scott</s>I love computer science\n",
            "[0, 2387, 766, 16, 1699, 2, 100, 657, 3034, 2866, 2]\n"
          ]
        }
      ]
    },
    {
      "cell_type": "markdown",
      "source": [
        "## 2.2 Mask claims by tokens"
      ],
      "metadata": {
        "id": "Ssc4GvCnjDQE"
      }
    },
    {
      "cell_type": "code",
      "source": [
        "def mask_token(sentence, tokenizer, p=0.5):\n",
        "  tokens = tokenizer.tokenize(sentence)\n",
        "  masked_tokens = [t if random.random()>p else tokenizer.mask_token\n",
        "          for t in tokens]\n",
        "  return tokenizer.convert_tokens_to_string(masked_tokens)\n",
        "print(df.claim[0])\n",
        "print(mask_token(df.claim[0], bert_tokenizer))\n",
        "print(mask_token(df.claim[0], bart_tokenizer))"
      ],
      "metadata": {
        "colab": {
          "base_uri": "https://localhost:8080/"
        },
        "id": "U7dusQ4LiJHZ",
        "outputId": "6f8ce7a1-0a3e-45e1-c908-e9bd2e5316d7"
      },
      "execution_count": null,
      "outputs": [
        {
          "output_type": "stream",
          "name": "stdout",
          "text": [
            "Nikolaj Coster-Waldau worked with the Fox Broadcasting Company.\n",
            "[MASK]j [MASK] [MASK] - wal [MASK]u [MASK] with [MASK] [MASK] [MASK] company [MASK]\n",
            "Nik<mask><mask><mask><mask><mask><mask><mask><mask><mask><mask> the Fox Broadcasting<mask><mask>\n"
          ]
        }
      ]
    },
    {
      "cell_type": "code",
      "source": [
        "df['masked_claim'] = df.claim.apply(\n",
        "    partial(mask_token, tokenizer=bart_tokenizer))\n",
        "df.head()"
      ],
      "metadata": {
        "colab": {
          "base_uri": "https://localhost:8080/",
          "height": 206
        },
        "id": "phOQU1tFj9KF",
        "outputId": "277b343d-1c74-45d5-992a-c60c3b7ba8a7"
      },
      "execution_count": null,
      "outputs": [
        {
          "output_type": "execute_result",
          "data": {
            "text/plain": [
              "                                               claim  \\\n",
              "0  Nikolaj Coster-Waldau worked with the Fox Broa...   \n",
              "1  Nikolaj Coster-Waldau worked with Peter Dinklage.   \n",
              "2               Nikolaj Coster-Waldau was in a film.   \n",
              "3  Game of Thrones (season 1) featured Danish act...   \n",
              "4  Nikolaj Coster-Waldau played Frank Pike in Vir...   \n",
              "\n",
              "                                                text  \\\n",
              "0  Nikolaj Coster-Waldau -LRB- -LSB- neɡ̊olaɪ̯ kʰ...   \n",
              "1  Nikolaj Coster-Waldau -LRB- -LSB- neɡ̊olaɪ̯ kʰ...   \n",
              "2  Nikolaj Coster-Waldau -LRB- -LSB- neɡ̊olaɪ̯ kʰ...   \n",
              "3  Nikolaj Coster-Waldau -LRB- -LSB- neɡ̊olaɪ̯ kʰ...   \n",
              "4  Nikolaj Coster-Waldau -LRB- -LSB- neɡ̊olaɪ̯ kʰ...   \n",
              "\n",
              "                                        masked_claim  \n",
              "0  <mask><mask>aj<mask>oster-<mask><mask>au worke...  \n",
              "1  Nikolaj C<mask><mask>W<mask><mask><mask><mask>...  \n",
              "2  <mask><mask><mask> Coster-<mask>ald<mask> was<...  \n",
              "3  <mask> of<mask> (<mask> 1) featured<mask> acto...  \n",
              "4  Nik<mask>aj<mask><mask>-<mask>aldau<mask> Fran...  "
            ],
            "text/html": [
              "\n",
              "  <div id=\"df-13132293-80fe-4b27-922b-d9267eea7535\">\n",
              "    <div class=\"colab-df-container\">\n",
              "      <div>\n",
              "<style scoped>\n",
              "    .dataframe tbody tr th:only-of-type {\n",
              "        vertical-align: middle;\n",
              "    }\n",
              "\n",
              "    .dataframe tbody tr th {\n",
              "        vertical-align: top;\n",
              "    }\n",
              "\n",
              "    .dataframe thead th {\n",
              "        text-align: right;\n",
              "    }\n",
              "</style>\n",
              "<table border=\"1\" class=\"dataframe\">\n",
              "  <thead>\n",
              "    <tr style=\"text-align: right;\">\n",
              "      <th></th>\n",
              "      <th>claim</th>\n",
              "      <th>text</th>\n",
              "      <th>masked_claim</th>\n",
              "    </tr>\n",
              "  </thead>\n",
              "  <tbody>\n",
              "    <tr>\n",
              "      <th>0</th>\n",
              "      <td>Nikolaj Coster-Waldau worked with the Fox Broa...</td>\n",
              "      <td>Nikolaj Coster-Waldau -LRB- -LSB- neɡ̊olaɪ̯ kʰ...</td>\n",
              "      <td>&lt;mask&gt;&lt;mask&gt;aj&lt;mask&gt;oster-&lt;mask&gt;&lt;mask&gt;au worke...</td>\n",
              "    </tr>\n",
              "    <tr>\n",
              "      <th>1</th>\n",
              "      <td>Nikolaj Coster-Waldau worked with Peter Dinklage.</td>\n",
              "      <td>Nikolaj Coster-Waldau -LRB- -LSB- neɡ̊olaɪ̯ kʰ...</td>\n",
              "      <td>Nikolaj C&lt;mask&gt;&lt;mask&gt;W&lt;mask&gt;&lt;mask&gt;&lt;mask&gt;&lt;mask&gt;...</td>\n",
              "    </tr>\n",
              "    <tr>\n",
              "      <th>2</th>\n",
              "      <td>Nikolaj Coster-Waldau was in a film.</td>\n",
              "      <td>Nikolaj Coster-Waldau -LRB- -LSB- neɡ̊olaɪ̯ kʰ...</td>\n",
              "      <td>&lt;mask&gt;&lt;mask&gt;&lt;mask&gt; Coster-&lt;mask&gt;ald&lt;mask&gt; was&lt;...</td>\n",
              "    </tr>\n",
              "    <tr>\n",
              "      <th>3</th>\n",
              "      <td>Game of Thrones (season 1) featured Danish act...</td>\n",
              "      <td>Nikolaj Coster-Waldau -LRB- -LSB- neɡ̊olaɪ̯ kʰ...</td>\n",
              "      <td>&lt;mask&gt; of&lt;mask&gt; (&lt;mask&gt; 1) featured&lt;mask&gt; acto...</td>\n",
              "    </tr>\n",
              "    <tr>\n",
              "      <th>4</th>\n",
              "      <td>Nikolaj Coster-Waldau played Frank Pike in Vir...</td>\n",
              "      <td>Nikolaj Coster-Waldau -LRB- -LSB- neɡ̊olaɪ̯ kʰ...</td>\n",
              "      <td>Nik&lt;mask&gt;aj&lt;mask&gt;&lt;mask&gt;-&lt;mask&gt;aldau&lt;mask&gt; Fran...</td>\n",
              "    </tr>\n",
              "  </tbody>\n",
              "</table>\n",
              "</div>\n",
              "      <button class=\"colab-df-convert\" onclick=\"convertToInteractive('df-13132293-80fe-4b27-922b-d9267eea7535')\"\n",
              "              title=\"Convert this dataframe to an interactive table.\"\n",
              "              style=\"display:none;\">\n",
              "        \n",
              "  <svg xmlns=\"http://www.w3.org/2000/svg\" height=\"24px\"viewBox=\"0 0 24 24\"\n",
              "       width=\"24px\">\n",
              "    <path d=\"M0 0h24v24H0V0z\" fill=\"none\"/>\n",
              "    <path d=\"M18.56 5.44l.94 2.06.94-2.06 2.06-.94-2.06-.94-.94-2.06-.94 2.06-2.06.94zm-11 1L8.5 8.5l.94-2.06 2.06-.94-2.06-.94L8.5 2.5l-.94 2.06-2.06.94zm10 10l.94 2.06.94-2.06 2.06-.94-2.06-.94-.94-2.06-.94 2.06-2.06.94z\"/><path d=\"M17.41 7.96l-1.37-1.37c-.4-.4-.92-.59-1.43-.59-.52 0-1.04.2-1.43.59L10.3 9.45l-7.72 7.72c-.78.78-.78 2.05 0 2.83L4 21.41c.39.39.9.59 1.41.59.51 0 1.02-.2 1.41-.59l7.78-7.78 2.81-2.81c.8-.78.8-2.07 0-2.86zM5.41 20L4 18.59l7.72-7.72 1.47 1.35L5.41 20z\"/>\n",
              "  </svg>\n",
              "      </button>\n",
              "      \n",
              "  <style>\n",
              "    .colab-df-container {\n",
              "      display:flex;\n",
              "      flex-wrap:wrap;\n",
              "      gap: 12px;\n",
              "    }\n",
              "\n",
              "    .colab-df-convert {\n",
              "      background-color: #E8F0FE;\n",
              "      border: none;\n",
              "      border-radius: 50%;\n",
              "      cursor: pointer;\n",
              "      display: none;\n",
              "      fill: #1967D2;\n",
              "      height: 32px;\n",
              "      padding: 0 0 0 0;\n",
              "      width: 32px;\n",
              "    }\n",
              "\n",
              "    .colab-df-convert:hover {\n",
              "      background-color: #E2EBFA;\n",
              "      box-shadow: 0px 1px 2px rgba(60, 64, 67, 0.3), 0px 1px 3px 1px rgba(60, 64, 67, 0.15);\n",
              "      fill: #174EA6;\n",
              "    }\n",
              "\n",
              "    [theme=dark] .colab-df-convert {\n",
              "      background-color: #3B4455;\n",
              "      fill: #D2E3FC;\n",
              "    }\n",
              "\n",
              "    [theme=dark] .colab-df-convert:hover {\n",
              "      background-color: #434B5C;\n",
              "      box-shadow: 0px 1px 3px 1px rgba(0, 0, 0, 0.15);\n",
              "      filter: drop-shadow(0px 1px 2px rgba(0, 0, 0, 0.3));\n",
              "      fill: #FFFFFF;\n",
              "    }\n",
              "  </style>\n",
              "\n",
              "      <script>\n",
              "        const buttonEl =\n",
              "          document.querySelector('#df-13132293-80fe-4b27-922b-d9267eea7535 button.colab-df-convert');\n",
              "        buttonEl.style.display =\n",
              "          google.colab.kernel.accessAllowed ? 'block' : 'none';\n",
              "\n",
              "        async function convertToInteractive(key) {\n",
              "          const element = document.querySelector('#df-13132293-80fe-4b27-922b-d9267eea7535');\n",
              "          const dataTable =\n",
              "            await google.colab.kernel.invokeFunction('convertToInteractive',\n",
              "                                                     [key], {});\n",
              "          if (!dataTable) return;\n",
              "\n",
              "          const docLinkHtml = 'Like what you see? Visit the ' +\n",
              "            '<a target=\"_blank\" href=https://colab.research.google.com/notebooks/data_table.ipynb>data table notebook</a>'\n",
              "            + ' to learn more about interactive tables.';\n",
              "          element.innerHTML = '';\n",
              "          dataTable['output_type'] = 'display_data';\n",
              "          await google.colab.output.renderOutput(dataTable, element);\n",
              "          const docLink = document.createElement('div');\n",
              "          docLink.innerHTML = docLinkHtml;\n",
              "          element.appendChild(docLink);\n",
              "        }\n",
              "      </script>\n",
              "    </div>\n",
              "  </div>\n",
              "  "
            ]
          },
          "metadata": {},
          "execution_count": 10
        }
      ]
    },
    {
      "cell_type": "markdown",
      "source": [
        "## 2.3 Concatenate inputs"
      ],
      "metadata": {
        "id": "PhLiN8COpoZ4"
      }
    },
    {
      "cell_type": "code",
      "source": [
        "df['input'] = df['masked_claim'] + bart_tokenizer.sep_token + df['text']"
      ],
      "metadata": {
        "id": "V_V6eJ9Hpazl"
      },
      "execution_count": null,
      "outputs": []
    },
    {
      "cell_type": "code",
      "source": [
        "df.input[0]"
      ],
      "metadata": {
        "colab": {
          "base_uri": "https://localhost:8080/",
          "height": 122
        },
        "id": "v-kKI5z3p7qY",
        "outputId": "17bda469-436e-46e9-ba68-668e14519dc5"
      },
      "execution_count": null,
      "outputs": [
        {
          "output_type": "execute_result",
          "data": {
            "text/plain": [
              "\"<mask><mask>aj<mask>oster-<mask><mask>au worked<mask><mask> Fox Broadcasting Company<mask></s>Nikolaj Coster-Waldau -LRB- -LSB- neɡ̊olaɪ̯ kʰʌsd̥ɐ ˈʋald̥ɑʊ̯ -RSB- ; born 27 July 1970 -RRB- is a Danish actor , producer and screenwriter . He graduated from Danish National School of Theatre in Copenhagen in 1993 . Coster-Waldau 's breakthrough performance in Denmark was his role in the film Nightwatch -LRB- 1994 -RRB- . Since then he has appeared in numerous films in his native Scandinavia and Europe in general , including Headhunters -LRB- 2011 -RRB- and A Thousand Times Good Night -LRB- 2013 -RRB- .   In the United States , his debut film role was in the war film Black Hawk Down -LRB- 2001 -RRB- , playing Medal of Honor recipient Gary Gordon . He then played Detective John Amsterdam in the short-lived Fox television series New Amsterdam -LRB- 2008 -RRB- , as well as appearing as Frank Pike in the 2009 Fox television film Virtuality , originally intended as a pilot . He became widely known to a broad audience for his current role as Ser Jaime Lannister , in the HBO series Game of Thrones . In 2017 , he became one of the highest paid actors on television and earned # 2 million per episode of Game of Thrones . \""
            ],
            "application/vnd.google.colaboratory.intrinsic+json": {
              "type": "string"
            }
          },
          "metadata": {},
          "execution_count": 12
        }
      ]
    },
    {
      "cell_type": "markdown",
      "source": [
        "## 2.4 Tokenize input and targets"
      ],
      "metadata": {
        "id": "dy7aicP3qLbC"
      }
    },
    {
      "cell_type": "code",
      "source": [
        "sample_encode = bart_tokenizer(df.input[0],max_length=64,padding=\"max_length\",\n",
        "                          truncation=True, return_tensors=\"pt\")\n",
        "print(sample_encode.keys())\n",
        "print(sample_encode['input_ids'])\n",
        "print(sample_encode['attention_mask'])"
      ],
      "metadata": {
        "colab": {
          "base_uri": "https://localhost:8080/"
        },
        "id": "rWcYo_3Pqnfk",
        "outputId": "90236bc7-449c-4cd7-ed71-8fadfb945feb"
      },
      "execution_count": null,
      "outputs": [
        {
          "output_type": "stream",
          "name": "stdout",
          "text": [
            "dict_keys(['input_ids', 'attention_mask'])\n",
            "tensor([[    0, 50264, 50264,  1176, 50264, 13991,    12, 50264, 50264,  1180,\n",
            "          1006, 50264, 50264,  2063, 13610,  1260, 50264,     2, 38334,  1168,\n",
            "          1176,   230, 13991,    12,   771,  5618,  1180,   111,   574, 26770,\n",
            "            12,   111, 10463,   387,    12,  3087, 35423,  5543, 44025, 27969,\n",
            "          3019, 35423, 10278, 44025, 10965,   449, 38155,  7487, 38155, 14285,\n",
            "         28045, 44025,  8210, 35423, 16948,  1437, 49066, 38155, 13859,  5618,\n",
            "         44025,  8210, 35423,     2]])\n",
            "tensor([[1, 1, 1, 1, 1, 1, 1, 1, 1, 1, 1, 1, 1, 1, 1, 1, 1, 1, 1, 1, 1, 1, 1, 1,\n",
            "         1, 1, 1, 1, 1, 1, 1, 1, 1, 1, 1, 1, 1, 1, 1, 1, 1, 1, 1, 1, 1, 1, 1, 1,\n",
            "         1, 1, 1, 1, 1, 1, 1, 1, 1, 1, 1, 1, 1, 1, 1, 1]])\n"
          ]
        }
      ]
    },
    {
      "cell_type": "code",
      "source": [
        "def ids_and_mask_encode(s,tokenizer,max_length=512):\n",
        "  encoding=tokenizer(s,max_length=max_length,padding=\"max_length\",\n",
        "                          truncation=True)\n",
        "  return encoding['input_ids']"
      ],
      "metadata": {
        "id": "cDahoNNt0JOH"
      },
      "execution_count": null,
      "outputs": []
    },
    {
      "cell_type": "code",
      "source": [
        "sample_series_encode = df.input[:10].apply(partial(bart_tokenizer.encode\n",
        "                          ,max_length=512,padding=\"max_length\",\n",
        "                          truncation=True))"
      ],
      "metadata": {
        "id": "t0lcwnHsp9RV"
      },
      "execution_count": null,
      "outputs": []
    },
    {
      "cell_type": "code",
      "source": [
        "print(sample_series_encode[0])"
      ],
      "metadata": {
        "id": "DB9da8rhz9ZO",
        "colab": {
          "base_uri": "https://localhost:8080/"
        },
        "outputId": "c1b36425-e450-48d1-a6b3-29ee2f8de0e6"
      },
      "execution_count": null,
      "outputs": [
        {
          "output_type": "stream",
          "name": "stdout",
          "text": [
            "[0, 50264, 50264, 1176, 50264, 13991, 12, 50264, 50264, 1180, 1006, 50264, 50264, 2063, 13610, 1260, 50264, 2, 38334, 1168, 1176, 230, 13991, 12, 771, 5618, 1180, 111, 574, 26770, 12, 111, 10463, 387, 12, 3087, 35423, 5543, 44025, 27969, 3019, 35423, 10278, 44025, 10965, 449, 38155, 7487, 38155, 14285, 28045, 44025, 8210, 35423, 16948, 1437, 49066, 38155, 13859, 5618, 44025, 8210, 35423, 3602, 38155, 27969, 44025, 10965, 111, 8105, 387, 12, 25606, 2421, 974, 550, 6200, 111, 25733, 387, 12, 16, 10, 13501, 2701, 2156, 3436, 8, 2441, 9408, 479, 91, 8505, 31, 13501, 496, 835, 9, 5132, 11, 22843, 11, 9095, 479, 230, 13991, 12, 771, 5618, 1180, 128, 29, 10118, 819, 11, 10060, 21, 39, 774, 11, 5, 822, 4172, 11018, 111, 574, 26770, 12, 8148, 111, 25733, 387, 12, 479, 1773, 172, 37, 34, 1382, 11, 3617, 3541, 11, 39, 3763, 39403, 493, 8, 1005, 11, 937, 2156, 217, 3928, 18458, 2696, 111, 574, 26770, 12, 1466, 111, 25733, 387, 12, 8, 83, 24359, 1513, 2497, 4172, 111, 574, 26770, 12, 1014, 111, 25733, 387, 12, 479, 1437, 1437, 96, 5, 315, 532, 2156, 39, 2453, 822, 774, 21, 11, 5, 997, 822, 1378, 23971, 5818, 111, 574, 26770, 12, 5155, 111, 25733, 387, 12, 2156, 816, 17823, 9, 11403, 13160, 4587, 5613, 479, 91, 172, 702, 13924, 610, 16342, 11, 5, 765, 12, 18062, 2063, 2384, 651, 188, 16342, 111, 574, 26770, 12, 2266, 111, 25733, 387, 12, 2156, 25, 157, 25, 8165, 25, 3848, 20859, 11, 5, 2338, 2063, 2384, 822, 21741, 1571, 2156, 3249, 3833, 25, 10, 4792, 479, 91, 1059, 3924, 684, 7, 10, 4007, 2437, 13, 39, 595, 774, 25, 6251, 23929, 37773, 4742, 2156, 11, 5, 10240, 651, 2436, 9, 13480, 479, 96, 193, 2156, 37, 1059, 65, 9, 5, 1609, 1199, 5552, 15, 2384, 8, 2208, 849, 132, 153, 228, 3238, 9, 2436, 9, 13480, 479, 1437, 2, 1, 1, 1, 1, 1, 1, 1, 1, 1, 1, 1, 1, 1, 1, 1, 1, 1, 1, 1, 1, 1, 1, 1, 1, 1, 1, 1, 1, 1, 1, 1, 1, 1, 1, 1, 1, 1, 1, 1, 1, 1, 1, 1, 1, 1, 1, 1, 1, 1, 1, 1, 1, 1, 1, 1, 1, 1, 1, 1, 1, 1, 1, 1, 1, 1, 1, 1, 1, 1, 1, 1, 1, 1, 1, 1, 1, 1, 1, 1, 1, 1, 1, 1, 1, 1, 1, 1, 1, 1, 1, 1, 1, 1, 1, 1, 1, 1, 1, 1, 1, 1, 1, 1, 1, 1, 1, 1, 1, 1, 1, 1, 1, 1, 1, 1, 1, 1, 1, 1, 1, 1, 1, 1, 1, 1, 1, 1, 1, 1, 1, 1, 1, 1, 1, 1, 1, 1, 1, 1, 1, 1, 1, 1, 1, 1, 1, 1, 1, 1, 1, 1, 1, 1, 1, 1, 1, 1, 1, 1, 1, 1, 1, 1, 1, 1, 1, 1, 1, 1, 1, 1, 1, 1, 1, 1, 1, 1, 1, 1, 1, 1, 1, 1, 1, 1, 1, 1, 1, 1, 1, 1, 1, 1]\n"
          ]
        }
      ]
    },
    {
      "cell_type": "code",
      "source": [
        "lengths = df.input.apply(lambda x: len(x.split()))"
      ],
      "metadata": {
        "id": "-ChqK9DX2hD1"
      },
      "execution_count": null,
      "outputs": []
    },
    {
      "cell_type": "code",
      "source": [
        "print(lengths.min())\n",
        "print(lengths.max())\n",
        "print(lengths.mean())\n",
        "print(lengths.median())\n",
        "lengths.plot.hist()"
      ],
      "metadata": {
        "colab": {
          "base_uri": "https://localhost:8080/",
          "height": 517
        },
        "id": "NF1U2MG-2xxl",
        "outputId": "0b1df1d0-9765-4013-bc14-987a9e703b49"
      },
      "execution_count": null,
      "outputs": [
        {
          "output_type": "stream",
          "name": "stdout",
          "text": [
            "6\n",
            "1504\n",
            "319.58868059802205\n",
            "288.0\n"
          ]
        },
        {
          "output_type": "execute_result",
          "data": {
            "text/plain": [
              "<Axes: ylabel='Frequency'>"
            ]
          },
          "metadata": {},
          "execution_count": 18
        },
        {
          "output_type": "display_data",
          "data": {
            "text/plain": [
              "<Figure size 640x480 with 1 Axes>"
            ],
            "image/png": "[encoded data removed]"
          },
          "metadata": {}
        }
      ]
    },
    {
      "cell_type": "code",
      "source": [
        "# df[['input_ids', 'input_mask']] = df.input.apply(lambda x: \n",
        "#                           pd.Series(ids_and_mask_encode(x,\n",
        "#                           tokenizer=tokenizer,max_length=1024)))\n",
        "df['input_tokens'] = df.input.apply(partial(bart_tokenizer.encode\n",
        "                          ,max_length=512,padding=\"max_length\",\n",
        "                          truncation=True))\n",
        "df.head()"
      ],
      "metadata": {
        "colab": {
          "base_uri": "https://localhost:8080/",
          "height": 337
        },
        "id": "sMcbz6ihz_Vz",
        "outputId": "95691147-3ddb-4709-d553-0463903f0376"
      },
      "execution_count": null,
      "outputs": [
        {
          "output_type": "execute_result",
          "data": {
            "text/plain": [
              "                                               claim  \\\n",
              "0  Nikolaj Coster-Waldau worked with the Fox Broa...   \n",
              "1  Nikolaj Coster-Waldau worked with Peter Dinklage.   \n",
              "2               Nikolaj Coster-Waldau was in a film.   \n",
              "3  Game of Thrones (season 1) featured Danish act...   \n",
              "4  Nikolaj Coster-Waldau played Frank Pike in Vir...   \n",
              "\n",
              "                                                text  \\\n",
              "0  Nikolaj Coster-Waldau -LRB- -LSB- neɡ̊olaɪ̯ kʰ...   \n",
              "1  Nikolaj Coster-Waldau -LRB- -LSB- neɡ̊olaɪ̯ kʰ...   \n",
              "2  Nikolaj Coster-Waldau -LRB- -LSB- neɡ̊olaɪ̯ kʰ...   \n",
              "3  Nikolaj Coster-Waldau -LRB- -LSB- neɡ̊olaɪ̯ kʰ...   \n",
              "4  Nikolaj Coster-Waldau -LRB- -LSB- neɡ̊olaɪ̯ kʰ...   \n",
              "\n",
              "                                        masked_claim  \\\n",
              "0  <mask><mask>aj<mask>oster-<mask><mask>au worke...   \n",
              "1  Nikolaj C<mask><mask>W<mask><mask><mask><mask>...   \n",
              "2  <mask><mask><mask> Coster-<mask>ald<mask> was<...   \n",
              "3  <mask> of<mask> (<mask> 1) featured<mask> acto...   \n",
              "4  Nik<mask>aj<mask><mask>-<mask>aldau<mask> Fran...   \n",
              "\n",
              "                                               input  \\\n",
              "0  <mask><mask>aj<mask>oster-<mask><mask>au worke...   \n",
              "1  Nikolaj C<mask><mask>W<mask><mask><mask><mask>...   \n",
              "2  <mask><mask><mask> Coster-<mask>ald<mask> was<...   \n",
              "3  <mask> of<mask> (<mask> 1) featured<mask> acto...   \n",
              "4  Nik<mask>aj<mask><mask>-<mask>aldau<mask> Fran...   \n",
              "\n",
              "                                        input_tokens  \n",
              "0  [0, 50264, 50264, 1176, 50264, 13991, 12, 5026...  \n",
              "1  [0, 38334, 1168, 1176, 230, 50264, 50264, 771,...  \n",
              "2  [0, 50264, 50264, 50264, 230, 13991, 12, 50264...  \n",
              "3  [0, 50264, 9, 50264, 36, 50264, 112, 43, 3520,...  \n",
              "4  [0, 38334, 50264, 1176, 50264, 50264, 12, 5026...  "
            ],
            "text/html": [
              "\n",
              "  <div id=\"df-c92525bb-0993-4be9-abc3-5d379fdd296b\">\n",
              "    <div class=\"colab-df-container\">\n",
              "      <div>\n",
              "<style scoped>\n",
              "    .dataframe tbody tr th:only-of-type {\n",
              "        vertical-align: middle;\n",
              "    }\n",
              "\n",
              "    .dataframe tbody tr th {\n",
              "        vertical-align: top;\n",
              "    }\n",
              "\n",
              "    .dataframe thead th {\n",
              "        text-align: right;\n",
              "    }\n",
              "</style>\n",
              "<table border=\"1\" class=\"dataframe\">\n",
              "  <thead>\n",
              "    <tr style=\"text-align: right;\">\n",
              "      <th></th>\n",
              "      <th>claim</th>\n",
              "      <th>text</th>\n",
              "      <th>masked_claim</th>\n",
              "      <th>input</th>\n",
              "      <th>input_tokens</th>\n",
              "    </tr>\n",
              "  </thead>\n",
              "  <tbody>\n",
              "    <tr>\n",
              "      <th>0</th>\n",
              "      <td>Nikolaj Coster-Waldau worked with the Fox Broa...</td>\n",
              "      <td>Nikolaj Coster-Waldau -LRB- -LSB- neɡ̊olaɪ̯ kʰ...</td>\n",
              "      <td>&lt;mask&gt;&lt;mask&gt;aj&lt;mask&gt;oster-&lt;mask&gt;&lt;mask&gt;au worke...</td>\n",
              "      <td>&lt;mask&gt;&lt;mask&gt;aj&lt;mask&gt;oster-&lt;mask&gt;&lt;mask&gt;au worke...</td>\n",
              "      <td>[0, 50264, 50264, 1176, 50264, 13991, 12, 5026...</td>\n",
              "    </tr>\n",
              "    <tr>\n",
              "      <th>1</th>\n",
              "      <td>Nikolaj Coster-Waldau worked with Peter Dinklage.</td>\n",
              "      <td>Nikolaj Coster-Waldau -LRB- -LSB- neɡ̊olaɪ̯ kʰ...</td>\n",
              "      <td>Nikolaj C&lt;mask&gt;&lt;mask&gt;W&lt;mask&gt;&lt;mask&gt;&lt;mask&gt;&lt;mask&gt;...</td>\n",
              "      <td>Nikolaj C&lt;mask&gt;&lt;mask&gt;W&lt;mask&gt;&lt;mask&gt;&lt;mask&gt;&lt;mask&gt;...</td>\n",
              "      <td>[0, 38334, 1168, 1176, 230, 50264, 50264, 771,...</td>\n",
              "    </tr>\n",
              "    <tr>\n",
              "      <th>2</th>\n",
              "      <td>Nikolaj Coster-Waldau was in a film.</td>\n",
              "      <td>Nikolaj Coster-Waldau -LRB- -LSB- neɡ̊olaɪ̯ kʰ...</td>\n",
              "      <td>&lt;mask&gt;&lt;mask&gt;&lt;mask&gt; Coster-&lt;mask&gt;ald&lt;mask&gt; was&lt;...</td>\n",
              "      <td>&lt;mask&gt;&lt;mask&gt;&lt;mask&gt; Coster-&lt;mask&gt;ald&lt;mask&gt; was&lt;...</td>\n",
              "      <td>[0, 50264, 50264, 50264, 230, 13991, 12, 50264...</td>\n",
              "    </tr>\n",
              "    <tr>\n",
              "      <th>3</th>\n",
              "      <td>Game of Thrones (season 1) featured Danish act...</td>\n",
              "      <td>Nikolaj Coster-Waldau -LRB- -LSB- neɡ̊olaɪ̯ kʰ...</td>\n",
              "      <td>&lt;mask&gt; of&lt;mask&gt; (&lt;mask&gt; 1) featured&lt;mask&gt; acto...</td>\n",
              "      <td>&lt;mask&gt; of&lt;mask&gt; (&lt;mask&gt; 1) featured&lt;mask&gt; acto...</td>\n",
              "      <td>[0, 50264, 9, 50264, 36, 50264, 112, 43, 3520,...</td>\n",
              "    </tr>\n",
              "    <tr>\n",
              "      <th>4</th>\n",
              "      <td>Nikolaj Coster-Waldau played Frank Pike in Vir...</td>\n",
              "      <td>Nikolaj Coster-Waldau -LRB- -LSB- neɡ̊olaɪ̯ kʰ...</td>\n",
              "      <td>Nik&lt;mask&gt;aj&lt;mask&gt;&lt;mask&gt;-&lt;mask&gt;aldau&lt;mask&gt; Fran...</td>\n",
              "      <td>Nik&lt;mask&gt;aj&lt;mask&gt;&lt;mask&gt;-&lt;mask&gt;aldau&lt;mask&gt; Fran...</td>\n",
              "      <td>[0, 38334, 50264, 1176, 50264, 50264, 12, 5026...</td>\n",
              "    </tr>\n",
              "  </tbody>\n",
              "</table>\n",
              "</div>\n",
              "      <button class=\"colab-df-convert\" onclick=\"convertToInteractive('df-c92525bb-0993-4be9-abc3-5d379fdd296b')\"\n",
              "              title=\"Convert this dataframe to an interactive table.\"\n",
              "              style=\"display:none;\">\n",
              "        \n",
              "  <svg xmlns=\"http://www.w3.org/2000/svg\" height=\"24px\"viewBox=\"0 0 24 24\"\n",
              "       width=\"24px\">\n",
              "    <path d=\"M0 0h24v24H0V0z\" fill=\"none\"/>\n",
              "    <path d=\"M18.56 5.44l.94 2.06.94-2.06 2.06-.94-2.06-.94-.94-2.06-.94 2.06-2.06.94zm-11 1L8.5 8.5l.94-2.06 2.06-.94-2.06-.94L8.5 2.5l-.94 2.06-2.06.94zm10 10l.94 2.06.94-2.06 2.06-.94-2.06-.94-.94-2.06-.94 2.06-2.06.94z\"/><path d=\"M17.41 7.96l-1.37-1.37c-.4-.4-.92-.59-1.43-.59-.52 0-1.04.2-1.43.59L10.3 9.45l-7.72 7.72c-.78.78-.78 2.05 0 2.83L4 21.41c.39.39.9.59 1.41.59.51 0 1.02-.2 1.41-.59l7.78-7.78 2.81-2.81c.8-.78.8-2.07 0-2.86zM5.41 20L4 18.59l7.72-7.72 1.47 1.35L5.41 20z\"/>\n",
              "  </svg>\n",
              "      </button>\n",
              "      \n",
              "  <style>\n",
              "    .colab-df-container {\n",
              "      display:flex;\n",
              "      flex-wrap:wrap;\n",
              "      gap: 12px;\n",
              "    }\n",
              "\n",
              "    .colab-df-convert {\n",
              "      background-color: #E8F0FE;\n",
              "      border: none;\n",
              "      border-radius: 50%;\n",
              "      cursor: pointer;\n",
              "      display: none;\n",
              "      fill: #1967D2;\n",
              "      height: 32px;\n",
              "      padding: 0 0 0 0;\n",
              "      width: 32px;\n",
              "    }\n",
              "\n",
              "    .colab-df-convert:hover {\n",
              "      background-color: #E2EBFA;\n",
              "      box-shadow: 0px 1px 2px rgba(60, 64, 67, 0.3), 0px 1px 3px 1px rgba(60, 64, 67, 0.15);\n",
              "      fill: #174EA6;\n",
              "    }\n",
              "\n",
              "    [theme=dark] .colab-df-convert {\n",
              "      background-color: #3B4455;\n",
              "      fill: #D2E3FC;\n",
              "    }\n",
              "\n",
              "    [theme=dark] .colab-df-convert:hover {\n",
              "      background-color: #434B5C;\n",
              "      box-shadow: 0px 1px 3px 1px rgba(0, 0, 0, 0.15);\n",
              "      filter: drop-shadow(0px 1px 2px rgba(0, 0, 0, 0.3));\n",
              "      fill: #FFFFFF;\n",
              "    }\n",
              "  </style>\n",
              "\n",
              "      <script>\n",
              "        const buttonEl =\n",
              "          document.querySelector('#df-c92525bb-0993-4be9-abc3-5d379fdd296b button.colab-df-convert');\n",
              "        buttonEl.style.display =\n",
              "          google.colab.kernel.accessAllowed ? 'block' : 'none';\n",
              "\n",
              "        async function convertToInteractive(key) {\n",
              "          const element = document.querySelector('#df-c92525bb-0993-4be9-abc3-5d379fdd296b');\n",
              "          const dataTable =\n",
              "            await google.colab.kernel.invokeFunction('convertToInteractive',\n",
              "                                                     [key], {});\n",
              "          if (!dataTable) return;\n",
              "\n",
              "          const docLinkHtml = 'Like what you see? Visit the ' +\n",
              "            '<a target=\"_blank\" href=https://colab.research.google.com/notebooks/data_table.ipynb>data table notebook</a>'\n",
              "            + ' to learn more about interactive tables.';\n",
              "          element.innerHTML = '';\n",
              "          dataTable['output_type'] = 'display_data';\n",
              "          await google.colab.output.renderOutput(dataTable, element);\n",
              "          const docLink = document.createElement('div');\n",
              "          docLink.innerHTML = docLinkHtml;\n",
              "          element.appendChild(docLink);\n",
              "        }\n",
              "      </script>\n",
              "    </div>\n",
              "  </div>\n",
              "  "
            ]
          },
          "metadata": {},
          "execution_count": 19
        }
      ]
    },
    {
      "cell_type": "code",
      "source": [
        "df.to_csv('/content/drive/MyDrive/DeClare/only_input_encoded_base_512.csv', index=False)"
      ],
      "metadata": {
        "id": "cZ_JgLovBcI4"
      },
      "execution_count": null,
      "outputs": []
    },
    {
      "cell_type": "code",
      "source": [
        "df['claim_tokens'] = df.claim.apply(partial(bart_tokenizer.encode\n",
        "                          ,max_length=32,padding=\"max_length\",\n",
        "                          truncation=True))\n",
        "df.head()"
      ],
      "metadata": {
        "colab": {
          "base_uri": "https://localhost:8080/",
          "height": 337
        },
        "id": "U4aQOiBsGpDO",
        "outputId": "91a8e311-76bd-4a61-aa57-c5d811acd43b"
      },
      "execution_count": null,
      "outputs": [
        {
          "output_type": "execute_result",
          "data": {
            "text/plain": [
              "                                               claim  \\\n",
              "0  Nikolaj Coster-Waldau worked with the Fox Broa...   \n",
              "1  Nikolaj Coster-Waldau worked with Peter Dinklage.   \n",
              "2               Nikolaj Coster-Waldau was in a film.   \n",
              "3  Game of Thrones (season 1) featured Danish act...   \n",
              "4  Nikolaj Coster-Waldau played Frank Pike in Vir...   \n",
              "\n",
              "                                                text  \\\n",
              "0  Nikolaj Coster-Waldau -LRB- -LSB- neɡ̊olaɪ̯ kʰ...   \n",
              "1  Nikolaj Coster-Waldau -LRB- -LSB- neɡ̊olaɪ̯ kʰ...   \n",
              "2  Nikolaj Coster-Waldau -LRB- -LSB- neɡ̊olaɪ̯ kʰ...   \n",
              "3  Nikolaj Coster-Waldau -LRB- -LSB- neɡ̊olaɪ̯ kʰ...   \n",
              "4  Nikolaj Coster-Waldau -LRB- -LSB- neɡ̊olaɪ̯ kʰ...   \n",
              "\n",
              "                                        masked_claim  \\\n",
              "0  <mask><mask>aj<mask>oster-<mask><mask>au worke...   \n",
              "1  Nikolaj C<mask><mask>W<mask><mask><mask><mask>...   \n",
              "2  <mask><mask><mask> Coster-<mask>ald<mask> was<...   \n",
              "3  <mask> of<mask> (<mask> 1) featured<mask> acto...   \n",
              "4  Nik<mask>aj<mask><mask>-<mask>aldau<mask> Fran...   \n",
              "\n",
              "                                               input  \\\n",
              "0  <mask><mask>aj<mask>oster-<mask><mask>au worke...   \n",
              "1  Nikolaj C<mask><mask>W<mask><mask><mask><mask>...   \n",
              "2  <mask><mask><mask> Coster-<mask>ald<mask> was<...   \n",
              "3  <mask> of<mask> (<mask> 1) featured<mask> acto...   \n",
              "4  Nik<mask>aj<mask><mask>-<mask>aldau<mask> Fran...   \n",
              "\n",
              "                                        input_tokens  \\\n",
              "0  [0, 50264, 50264, 1176, 50264, 13991, 12, 5026...   \n",
              "1  [0, 38334, 1168, 1176, 230, 50264, 50264, 771,...   \n",
              "2  [0, 50264, 50264, 50264, 230, 13991, 12, 50264...   \n",
              "3  [0, 50264, 9, 50264, 36, 50264, 112, 43, 3520,...   \n",
              "4  [0, 38334, 50264, 1176, 50264, 50264, 12, 5026...   \n",
              "\n",
              "                                        claim_tokens  \n",
              "0  [0, 38334, 1168, 1176, 230, 13991, 12, 771, 56...  \n",
              "1  [0, 38334, 1168, 1176, 230, 13991, 12, 771, 56...  \n",
              "2  [0, 38334, 1168, 1176, 230, 13991, 12, 771, 56...  \n",
              "3  [0, 20178, 9, 13480, 36, 4162, 112, 43, 3520, ...  \n",
              "4  [0, 38334, 1168, 1176, 230, 13991, 12, 771, 56...  "
            ],
            "text/html": [
              "\n",
              "  <div id=\"df-8d176c55-0a11-4186-b4cf-5f5a7e4425b2\">\n",
              "    <div class=\"colab-df-container\">\n",
              "      <div>\n",
              "<style scoped>\n",
              "    .dataframe tbody tr th:only-of-type {\n",
              "        vertical-align: middle;\n",
              "    }\n",
              "\n",
              "    .dataframe tbody tr th {\n",
              "        vertical-align: top;\n",
              "    }\n",
              "\n",
              "    .dataframe thead th {\n",
              "        text-align: right;\n",
              "    }\n",
              "</style>\n",
              "<table border=\"1\" class=\"dataframe\">\n",
              "  <thead>\n",
              "    <tr style=\"text-align: right;\">\n",
              "      <th></th>\n",
              "      <th>claim</th>\n",
              "      <th>text</th>\n",
              "      <th>masked_claim</th>\n",
              "      <th>input</th>\n",
              "      <th>input_tokens</th>\n",
              "      <th>claim_tokens</th>\n",
              "    </tr>\n",
              "  </thead>\n",
              "  <tbody>\n",
              "    <tr>\n",
              "      <th>0</th>\n",
              "      <td>Nikolaj Coster-Waldau worked with the Fox Broa...</td>\n",
              "      <td>Nikolaj Coster-Waldau -LRB- -LSB- neɡ̊olaɪ̯ kʰ...</td>\n",
              "      <td>&lt;mask&gt;&lt;mask&gt;aj&lt;mask&gt;oster-&lt;mask&gt;&lt;mask&gt;au worke...</td>\n",
              "      <td>&lt;mask&gt;&lt;mask&gt;aj&lt;mask&gt;oster-&lt;mask&gt;&lt;mask&gt;au worke...</td>\n",
              "      <td>[0, 50264, 50264, 1176, 50264, 13991, 12, 5026...</td>\n",
              "      <td>[0, 38334, 1168, 1176, 230, 13991, 12, 771, 56...</td>\n",
              "    </tr>\n",
              "    <tr>\n",
              "      <th>1</th>\n",
              "      <td>Nikolaj Coster-Waldau worked with Peter Dinklage.</td>\n",
              "      <td>Nikolaj Coster-Waldau -LRB- -LSB- neɡ̊olaɪ̯ kʰ...</td>\n",
              "      <td>Nikolaj C&lt;mask&gt;&lt;mask&gt;W&lt;mask&gt;&lt;mask&gt;&lt;mask&gt;&lt;mask&gt;...</td>\n",
              "      <td>Nikolaj C&lt;mask&gt;&lt;mask&gt;W&lt;mask&gt;&lt;mask&gt;&lt;mask&gt;&lt;mask&gt;...</td>\n",
              "      <td>[0, 38334, 1168, 1176, 230, 50264, 50264, 771,...</td>\n",
              "      <td>[0, 38334, 1168, 1176, 230, 13991, 12, 771, 56...</td>\n",
              "    </tr>\n",
              "    <tr>\n",
              "      <th>2</th>\n",
              "      <td>Nikolaj Coster-Waldau was in a film.</td>\n",
              "      <td>Nikolaj Coster-Waldau -LRB- -LSB- neɡ̊olaɪ̯ kʰ...</td>\n",
              "      <td>&lt;mask&gt;&lt;mask&gt;&lt;mask&gt; Coster-&lt;mask&gt;ald&lt;mask&gt; was&lt;...</td>\n",
              "      <td>&lt;mask&gt;&lt;mask&gt;&lt;mask&gt; Coster-&lt;mask&gt;ald&lt;mask&gt; was&lt;...</td>\n",
              "      <td>[0, 50264, 50264, 50264, 230, 13991, 12, 50264...</td>\n",
              "      <td>[0, 38334, 1168, 1176, 230, 13991, 12, 771, 56...</td>\n",
              "    </tr>\n",
              "    <tr>\n",
              "      <th>3</th>\n",
              "      <td>Game of Thrones (season 1) featured Danish act...</td>\n",
              "      <td>Nikolaj Coster-Waldau -LRB- -LSB- neɡ̊olaɪ̯ kʰ...</td>\n",
              "      <td>&lt;mask&gt; of&lt;mask&gt; (&lt;mask&gt; 1) featured&lt;mask&gt; acto...</td>\n",
              "      <td>&lt;mask&gt; of&lt;mask&gt; (&lt;mask&gt; 1) featured&lt;mask&gt; acto...</td>\n",
              "      <td>[0, 50264, 9, 50264, 36, 50264, 112, 43, 3520,...</td>\n",
              "      <td>[0, 20178, 9, 13480, 36, 4162, 112, 43, 3520, ...</td>\n",
              "    </tr>\n",
              "    <tr>\n",
              "      <th>4</th>\n",
              "      <td>Nikolaj Coster-Waldau played Frank Pike in Vir...</td>\n",
              "      <td>Nikolaj Coster-Waldau -LRB- -LSB- neɡ̊olaɪ̯ kʰ...</td>\n",
              "      <td>Nik&lt;mask&gt;aj&lt;mask&gt;&lt;mask&gt;-&lt;mask&gt;aldau&lt;mask&gt; Fran...</td>\n",
              "      <td>Nik&lt;mask&gt;aj&lt;mask&gt;&lt;mask&gt;-&lt;mask&gt;aldau&lt;mask&gt; Fran...</td>\n",
              "      <td>[0, 38334, 50264, 1176, 50264, 50264, 12, 5026...</td>\n",
              "      <td>[0, 38334, 1168, 1176, 230, 13991, 12, 771, 56...</td>\n",
              "    </tr>\n",
              "  </tbody>\n",
              "</table>\n",
              "</div>\n",
              "      <button class=\"colab-df-convert\" onclick=\"convertToInteractive('df-8d176c55-0a11-4186-b4cf-5f5a7e4425b2')\"\n",
              "              title=\"Convert this dataframe to an interactive table.\"\n",
              "              style=\"display:none;\">\n",
              "        \n",
              "  <svg xmlns=\"http://www.w3.org/2000/svg\" height=\"24px\"viewBox=\"0 0 24 24\"\n",
              "       width=\"24px\">\n",
              "    <path d=\"M0 0h24v24H0V0z\" fill=\"none\"/>\n",
              "    <path d=\"M18.56 5.44l.94 2.06.94-2.06 2.06-.94-2.06-.94-.94-2.06-.94 2.06-2.06.94zm-11 1L8.5 8.5l.94-2.06 2.06-.94-2.06-.94L8.5 2.5l-.94 2.06-2.06.94zm10 10l.94 2.06.94-2.06 2.06-.94-2.06-.94-.94-2.06-.94 2.06-2.06.94z\"/><path d=\"M17.41 7.96l-1.37-1.37c-.4-.4-.92-.59-1.43-.59-.52 0-1.04.2-1.43.59L10.3 9.45l-7.72 7.72c-.78.78-.78 2.05 0 2.83L4 21.41c.39.39.9.59 1.41.59.51 0 1.02-.2 1.41-.59l7.78-7.78 2.81-2.81c.8-.78.8-2.07 0-2.86zM5.41 20L4 18.59l7.72-7.72 1.47 1.35L5.41 20z\"/>\n",
              "  </svg>\n",
              "      </button>\n",
              "      \n",
              "  <style>\n",
              "    .colab-df-container {\n",
              "      display:flex;\n",
              "      flex-wrap:wrap;\n",
              "      gap: 12px;\n",
              "    }\n",
              "\n",
              "    .colab-df-convert {\n",
              "      background-color: #E8F0FE;\n",
              "      border: none;\n",
              "      border-radius: 50%;\n",
              "      cursor: pointer;\n",
              "      display: none;\n",
              "      fill: #1967D2;\n",
              "      height: 32px;\n",
              "      padding: 0 0 0 0;\n",
              "      width: 32px;\n",
              "    }\n",
              "\n",
              "    .colab-df-convert:hover {\n",
              "      background-color: #E2EBFA;\n",
              "      box-shadow: 0px 1px 2px rgba(60, 64, 67, 0.3), 0px 1px 3px 1px rgba(60, 64, 67, 0.15);\n",
              "      fill: #174EA6;\n",
              "    }\n",
              "\n",
              "    [theme=dark] .colab-df-convert {\n",
              "      background-color: #3B4455;\n",
              "      fill: #D2E3FC;\n",
              "    }\n",
              "\n",
              "    [theme=dark] .colab-df-convert:hover {\n",
              "      background-color: #434B5C;\n",
              "      box-shadow: 0px 1px 3px 1px rgba(0, 0, 0, 0.15);\n",
              "      filter: drop-shadow(0px 1px 2px rgba(0, 0, 0, 0.3));\n",
              "      fill: #FFFFFF;\n",
              "    }\n",
              "  </style>\n",
              "\n",
              "      <script>\n",
              "        const buttonEl =\n",
              "          document.querySelector('#df-8d176c55-0a11-4186-b4cf-5f5a7e4425b2 button.colab-df-convert');\n",
              "        buttonEl.style.display =\n",
              "          google.colab.kernel.accessAllowed ? 'block' : 'none';\n",
              "\n",
              "        async function convertToInteractive(key) {\n",
              "          const element = document.querySelector('#df-8d176c55-0a11-4186-b4cf-5f5a7e4425b2');\n",
              "          const dataTable =\n",
              "            await google.colab.kernel.invokeFunction('convertToInteractive',\n",
              "                                                     [key], {});\n",
              "          if (!dataTable) return;\n",
              "\n",
              "          const docLinkHtml = 'Like what you see? Visit the ' +\n",
              "            '<a target=\"_blank\" href=https://colab.research.google.com/notebooks/data_table.ipynb>data table notebook</a>'\n",
              "            + ' to learn more about interactive tables.';\n",
              "          element.innerHTML = '';\n",
              "          dataTable['output_type'] = 'display_data';\n",
              "          await google.colab.output.renderOutput(dataTable, element);\n",
              "          const docLink = document.createElement('div');\n",
              "          docLink.innerHTML = docLinkHtml;\n",
              "          element.appendChild(docLink);\n",
              "        }\n",
              "      </script>\n",
              "    </div>\n",
              "  </div>\n",
              "  "
            ]
          },
          "metadata": {},
          "execution_count": 21
        }
      ]
    },
    {
      "cell_type": "code",
      "source": [
        "df.to_csv('/content/drive/MyDrive/DeClare/input_and_claim_encoded_base_512.csv', index=False)"
      ],
      "metadata": {
        "id": "Zgi0XQ8cHKgw"
      },
      "execution_count": null,
      "outputs": []
    },
    {
      "cell_type": "markdown",
      "source": [
        "## 2.5 Split"
      ],
      "metadata": {
        "id": "ViQ77yF-iLuN"
      }
    },
    {
      "cell_type": "code",
      "source": [
        "df = pd.read_csv('/content/drive/MyDrive/DeClare/input_and_claim_encoded_base_512.csv')\n",
        "df.head()"
      ],
      "metadata": {
        "id": "xpa0nW2KHPND",
        "colab": {
          "base_uri": "https://localhost:8080/",
          "height": 597
        },
        "outputId": "2d470122-2d05-42eb-b45f-0459ac172c54"
      },
      "execution_count": null,
      "outputs": [
        {
          "output_type": "execute_result",
          "data": {
            "text/plain": [
              "                                               claim  \\\n",
              "0  Nikolaj Coster-Waldau worked with the Fox Broa...   \n",
              "1  Nikolaj Coster-Waldau worked with Peter Dinklage.   \n",
              "2               Nikolaj Coster-Waldau was in a film.   \n",
              "3  Game of Thrones (season 1) featured Danish act...   \n",
              "4  Nikolaj Coster-Waldau played Frank Pike in Vir...   \n",
              "\n",
              "                                                text  \\\n",
              "0  Nikolaj Coster-Waldau -LRB- -LSB- neɡ̊olaɪ̯ kʰ...   \n",
              "1  Nikolaj Coster-Waldau -LRB- -LSB- neɡ̊olaɪ̯ kʰ...   \n",
              "2  Nikolaj Coster-Waldau -LRB- -LSB- neɡ̊olaɪ̯ kʰ...   \n",
              "3  Nikolaj Coster-Waldau -LRB- -LSB- neɡ̊olaɪ̯ kʰ...   \n",
              "4  Nikolaj Coster-Waldau -LRB- -LSB- neɡ̊olaɪ̯ kʰ...   \n",
              "\n",
              "                                        masked_claim  \\\n",
              "0  <mask><mask>aj<mask>oster-<mask><mask>au worke...   \n",
              "1  Nikolaj C<mask><mask>W<mask><mask><mask><mask>...   \n",
              "2  <mask><mask><mask> Coster-<mask>ald<mask> was<...   \n",
              "3  <mask> of<mask> (<mask> 1) featured<mask> acto...   \n",
              "4  Nik<mask>aj<mask><mask>-<mask>aldau<mask> Fran...   \n",
              "\n",
              "                                               input  \\\n",
              "0  <mask><mask>aj<mask>oster-<mask><mask>au worke...   \n",
              "1  Nikolaj C<mask><mask>W<mask><mask><mask><mask>...   \n",
              "2  <mask><mask><mask> Coster-<mask>ald<mask> was<...   \n",
              "3  <mask> of<mask> (<mask> 1) featured<mask> acto...   \n",
              "4  Nik<mask>aj<mask><mask>-<mask>aldau<mask> Fran...   \n",
              "\n",
              "                                        input_tokens  \\\n",
              "0  [0, 50264, 50264, 1176, 50264, 13991, 12, 5026...   \n",
              "1  [0, 38334, 1168, 1176, 230, 50264, 50264, 771,...   \n",
              "2  [0, 50264, 50264, 50264, 230, 13991, 12, 50264...   \n",
              "3  [0, 50264, 9, 50264, 36, 50264, 112, 43, 3520,...   \n",
              "4  [0, 38334, 50264, 1176, 50264, 50264, 12, 5026...   \n",
              "\n",
              "                                        claim_tokens  \n",
              "0  [0, 38334, 1168, 1176, 230, 13991, 12, 771, 56...  \n",
              "1  [0, 38334, 1168, 1176, 230, 13991, 12, 771, 56...  \n",
              "2  [0, 38334, 1168, 1176, 230, 13991, 12, 771, 56...  \n",
              "3  [0, 20178, 9, 13480, 36, 4162, 112, 43, 3520, ...  \n",
              "4  [0, 38334, 1168, 1176, 230, 13991, 12, 771, 56...  "
            ],
            "text/html": [
              "\n",
              "  <div id=\"df-6f810977-54f9-400b-8392-55f0decb56a3\">\n",
              "    <div class=\"colab-df-container\">\n",
              "      <div>\n",
              "<style scoped>\n",
              "    .dataframe tbody tr th:only-of-type {\n",
              "        vertical-align: middle;\n",
              "    }\n",
              "\n",
              "    .dataframe tbody tr th {\n",
              "        vertical-align: top;\n",
              "    }\n",
              "\n",
              "    .dataframe thead th {\n",
              "        text-align: right;\n",
              "    }\n",
              "</style>\n",
              "<table border=\"1\" class=\"dataframe\">\n",
              "  <thead>\n",
              "    <tr style=\"text-align: right;\">\n",
              "      <th></th>\n",
              "      <th>claim</th>\n",
              "      <th>text</th>\n",
              "      <th>masked_claim</th>\n",
              "      <th>input</th>\n",
              "      <th>input_tokens</th>\n",
              "      <th>claim_tokens</th>\n",
              "    </tr>\n",
              "  </thead>\n",
              "  <tbody>\n",
              "    <tr>\n",
              "      <th>0</th>\n",
              "      <td>Nikolaj Coster-Waldau worked with the Fox Broa...</td>\n",
              "      <td>Nikolaj Coster-Waldau -LRB- -LSB- neɡ̊olaɪ̯ kʰ...</td>\n",
              "      <td>&lt;mask&gt;&lt;mask&gt;aj&lt;mask&gt;oster-&lt;mask&gt;&lt;mask&gt;au worke...</td>\n",
              "      <td>&lt;mask&gt;&lt;mask&gt;aj&lt;mask&gt;oster-&lt;mask&gt;&lt;mask&gt;au worke...</td>\n",
              "      <td>[0, 50264, 50264, 1176, 50264, 13991, 12, 5026...</td>\n",
              "      <td>[0, 38334, 1168, 1176, 230, 13991, 12, 771, 56...</td>\n",
              "    </tr>\n",
              "    <tr>\n",
              "      <th>1</th>\n",
              "      <td>Nikolaj Coster-Waldau worked with Peter Dinklage.</td>\n",
              "      <td>Nikolaj Coster-Waldau -LRB- -LSB- neɡ̊olaɪ̯ kʰ...</td>\n",
              "      <td>Nikolaj C&lt;mask&gt;&lt;mask&gt;W&lt;mask&gt;&lt;mask&gt;&lt;mask&gt;&lt;mask&gt;...</td>\n",
              "      <td>Nikolaj C&lt;mask&gt;&lt;mask&gt;W&lt;mask&gt;&lt;mask&gt;&lt;mask&gt;&lt;mask&gt;...</td>\n",
              "      <td>[0, 38334, 1168, 1176, 230, 50264, 50264, 771,...</td>\n",
              "      <td>[0, 38334, 1168, 1176, 230, 13991, 12, 771, 56...</td>\n",
              "    </tr>\n",
              "    <tr>\n",
              "      <th>2</th>\n",
              "      <td>Nikolaj Coster-Waldau was in a film.</td>\n",
              "      <td>Nikolaj Coster-Waldau -LRB- -LSB- neɡ̊olaɪ̯ kʰ...</td>\n",
              "      <td>&lt;mask&gt;&lt;mask&gt;&lt;mask&gt; Coster-&lt;mask&gt;ald&lt;mask&gt; was&lt;...</td>\n",
              "      <td>&lt;mask&gt;&lt;mask&gt;&lt;mask&gt; Coster-&lt;mask&gt;ald&lt;mask&gt; was&lt;...</td>\n",
              "      <td>[0, 50264, 50264, 50264, 230, 13991, 12, 50264...</td>\n",
              "      <td>[0, 38334, 1168, 1176, 230, 13991, 12, 771, 56...</td>\n",
              "    </tr>\n",
              "    <tr>\n",
              "      <th>3</th>\n",
              "      <td>Game of Thrones (season 1) featured Danish act...</td>\n",
              "      <td>Nikolaj Coster-Waldau -LRB- -LSB- neɡ̊olaɪ̯ kʰ...</td>\n",
              "      <td>&lt;mask&gt; of&lt;mask&gt; (&lt;mask&gt; 1) featured&lt;mask&gt; acto...</td>\n",
              "      <td>&lt;mask&gt; of&lt;mask&gt; (&lt;mask&gt; 1) featured&lt;mask&gt; acto...</td>\n",
              "      <td>[0, 50264, 9, 50264, 36, 50264, 112, 43, 3520,...</td>\n",
              "      <td>[0, 20178, 9, 13480, 36, 4162, 112, 43, 3520, ...</td>\n",
              "    </tr>\n",
              "    <tr>\n",
              "      <th>4</th>\n",
              "      <td>Nikolaj Coster-Waldau played Frank Pike in Vir...</td>\n",
              "      <td>Nikolaj Coster-Waldau -LRB- -LSB- neɡ̊olaɪ̯ kʰ...</td>\n",
              "      <td>Nik&lt;mask&gt;aj&lt;mask&gt;&lt;mask&gt;-&lt;mask&gt;aldau&lt;mask&gt; Fran...</td>\n",
              "      <td>Nik&lt;mask&gt;aj&lt;mask&gt;&lt;mask&gt;-&lt;mask&gt;aldau&lt;mask&gt; Fran...</td>\n",
              "      <td>[0, 38334, 50264, 1176, 50264, 50264, 12, 5026...</td>\n",
              "      <td>[0, 38334, 1168, 1176, 230, 13991, 12, 771, 56...</td>\n",
              "    </tr>\n",
              "  </tbody>\n",
              "</table>\n",
              "</div>\n",
              "      <button class=\"colab-df-convert\" onclick=\"convertToInteractive('df-6f810977-54f9-400b-8392-55f0decb56a3')\"\n",
              "              title=\"Convert this dataframe to an interactive table.\"\n",
              "              style=\"display:none;\">\n",
              "        \n",
              "  <svg xmlns=\"http://www.w3.org/2000/svg\" height=\"24px\"viewBox=\"0 0 24 24\"\n",
              "       width=\"24px\">\n",
              "    <path d=\"M0 0h24v24H0V0z\" fill=\"none\"/>\n",
              "    <path d=\"M18.56 5.44l.94 2.06.94-2.06 2.06-.94-2.06-.94-.94-2.06-.94 2.06-2.06.94zm-11 1L8.5 8.5l.94-2.06 2.06-.94-2.06-.94L8.5 2.5l-.94 2.06-2.06.94zm10 10l.94 2.06.94-2.06 2.06-.94-2.06-.94-.94-2.06-.94 2.06-2.06.94z\"/><path d=\"M17.41 7.96l-1.37-1.37c-.4-.4-.92-.59-1.43-.59-.52 0-1.04.2-1.43.59L10.3 9.45l-7.72 7.72c-.78.78-.78 2.05 0 2.83L4 21.41c.39.39.9.59 1.41.59.51 0 1.02-.2 1.41-.59l7.78-7.78 2.81-2.81c.8-.78.8-2.07 0-2.86zM5.41 20L4 18.59l7.72-7.72 1.47 1.35L5.41 20z\"/>\n",
              "  </svg>\n",
              "      </button>\n",
              "      \n",
              "  <style>\n",
              "    .colab-df-container {\n",
              "      display:flex;\n",
              "      flex-wrap:wrap;\n",
              "      gap: 12px;\n",
              "    }\n",
              "\n",
              "    .colab-df-convert {\n",
              "      background-color: #E8F0FE;\n",
              "      border: none;\n",
              "      border-radius: 50%;\n",
              "      cursor: pointer;\n",
              "      display: none;\n",
              "      fill: #1967D2;\n",
              "      height: 32px;\n",
              "      padding: 0 0 0 0;\n",
              "      width: 32px;\n",
              "    }\n",
              "\n",
              "    .colab-df-convert:hover {\n",
              "      background-color: #E2EBFA;\n",
              "      box-shadow: 0px 1px 2px rgba(60, 64, 67, 0.3), 0px 1px 3px 1px rgba(60, 64, 67, 0.15);\n",
              "      fill: #174EA6;\n",
              "    }\n",
              "\n",
              "    [theme=dark] .colab-df-convert {\n",
              "      background-color: #3B4455;\n",
              "      fill: #D2E3FC;\n",
              "    }\n",
              "\n",
              "    [theme=dark] .colab-df-convert:hover {\n",
              "      background-color: #434B5C;\n",
              "      box-shadow: 0px 1px 3px 1px rgba(0, 0, 0, 0.15);\n",
              "      filter: drop-shadow(0px 1px 2px rgba(0, 0, 0, 0.3));\n",
              "      fill: #FFFFFF;\n",
              "    }\n",
              "  </style>\n",
              "\n",
              "      <script>\n",
              "        const buttonEl =\n",
              "          document.querySelector('#df-6f810977-54f9-400b-8392-55f0decb56a3 button.colab-df-convert');\n",
              "        buttonEl.style.display =\n",
              "          google.colab.kernel.accessAllowed ? 'block' : 'none';\n",
              "\n",
              "        async function convertToInteractive(key) {\n",
              "          const element = document.querySelector('#df-6f810977-54f9-400b-8392-55f0decb56a3');\n",
              "          const dataTable =\n",
              "            await google.colab.kernel.invokeFunction('convertToInteractive',\n",
              "                                                     [key], {});\n",
              "          if (!dataTable) return;\n",
              "\n",
              "          const docLinkHtml = 'Like what you see? Visit the ' +\n",
              "            '<a target=\"_blank\" href=https://colab.research.google.com/notebooks/data_table.ipynb>data table notebook</a>'\n",
              "            + ' to learn more about interactive tables.';\n",
              "          element.innerHTML = '';\n",
              "          dataTable['output_type'] = 'display_data';\n",
              "          await google.colab.output.renderOutput(dataTable, element);\n",
              "          const docLink = document.createElement('div');\n",
              "          docLink.innerHTML = docLinkHtml;\n",
              "          element.appendChild(docLink);\n",
              "        }\n",
              "      </script>\n",
              "    </div>\n",
              "  </div>\n",
              "  "
            ]
          },
          "metadata": {},
          "execution_count": 3
        }
      ]
    },
    {
      "cell_type": "code",
      "source": [
        "for col in ['input_tokens', 'claim_tokens']:\n",
        "  df[col] = df[col].apply(eval)"
      ],
      "metadata": {
        "id": "AyqfOKbdiXNa"
      },
      "execution_count": null,
      "outputs": []
    },
    {
      "cell_type": "code",
      "source": [
        "input_tokens, claim_tokens = df.input_tokens.to_list(), df.claim_tokens.to_list()\n",
        "train_input, val_input, train_claim, val_claim = train_test_split(\n",
        "    input_tokens, claim_tokens, test_size=0.2, random_state=42)\n",
        "val_input, test_input, val_claim, test_claim = train_test_split(\n",
        "    val_input, val_claim, test_size=0.5, random_state=42)"
      ],
      "metadata": {
        "id": "yX6_jo6qjQFw"
      },
      "execution_count": null,
      "outputs": []
    },
    {
      "cell_type": "code",
      "source": [
        "device = torch.device('cuda') if torch.cuda.is_available() else torch.device('cpu')\n",
        "device"
      ],
      "metadata": {
        "colab": {
          "base_uri": "https://localhost:8080/"
        },
        "id": "AT1RXNCd8bF3",
        "outputId": "6160851e-52aa-4885-e745-49899ade682e"
      },
      "execution_count": null,
      "outputs": [
        {
          "output_type": "execute_result",
          "data": {
            "text/plain": [
              "device(type='cuda')"
            ]
          },
          "metadata": {},
          "execution_count": 6
        }
      ]
    },
    {
      "cell_type": "code",
      "source": [
        "train_input = torch.tensor(train_input).to(device)\n",
        "train_claim = torch.tensor(train_claim).to(device)\n",
        "val_input = torch.tensor(val_input).to(device)\n",
        "val_claim = torch.tensor(val_claim).to(device)\n",
        "test_input = torch.tensor(test_input).to(device)\n",
        "test_claim = torch.tensor(test_claim).to(device)"
      ],
      "metadata": {
        "id": "kO2rM4d0W9Lv"
      },
      "execution_count": null,
      "outputs": []
    },
    {
      "cell_type": "markdown",
      "source": [
        "# 3. Fine tune the model"
      ],
      "metadata": {
        "id": "zr8IFpIEXePT"
      }
    },
    {
      "cell_type": "markdown",
      "source": [
        "## 3.1 Try predicting the claim"
      ],
      "metadata": {
        "id": "XPhSKl21Xgk4"
      }
    },
    {
      "cell_type": "code",
      "source": [
        "model = BartForConditionalGeneration.from_pretrained('facebook/bart-base').to(device)"
      ],
      "metadata": {
        "id": "mtJJFtPuXSD6"
      },
      "execution_count": null,
      "outputs": []
    },
    {
      "cell_type": "code",
      "source": [
        "sample_input_tensor = train_input[:1]\n",
        "sample_input_tensor"
      ],
      "metadata": {
        "colab": {
          "base_uri": "https://localhost:8080/"
        },
        "id": "1hGnE7BkXlG1",
        "outputId": "eb155b6a-5e85-4607-d8af-7be8f09994ed"
      },
      "execution_count": null,
      "outputs": [
        {
          "output_type": "execute_result",
          "data": {
            "text/plain": [
              "tensor([[    0, 42268, 50264, 27413,  2865, 50264,    19,    41,  2701,     4,\n",
              "             2, 40422, 13065,   268,    16,    10,  1824,  2222,   822,  1982,\n",
              "            30,  4578,  1775,   493,  2156,  3660,    30,  2363,   287,   611,\n",
              "          2156,     8,  8996, 10716, 27413,  2865,  2156,  3289,  1731, 12037,\n",
              "          2156,  6416,  7274, 21651,  2156,  6937,  8336,  2420, 12425,  2156,\n",
              "          1209,    12, 43691,     8,  3262,   274, 33306,   479,  8427, 13065,\n",
              "           268,    16,  4083,    30,  3031,  1061,    11,     5,   628, 40176,\n",
              "         25620,    77,  6233,   808,   636,  8609,    58, 14577,    25,   475,\n",
              "         17773,     7, 29132,   459, 37695,    31,  1005,    88,     5,   315,\n",
              "           532,   479,  1437,     2,     1,     1,     1,     1,     1,     1,\n",
              "             1,     1,     1,     1,     1,     1,     1,     1,     1,     1,\n",
              "             1,     1,     1,     1,     1,     1,     1,     1,     1,     1,\n",
              "             1,     1,     1,     1,     1,     1,     1,     1,     1,     1,\n",
              "             1,     1,     1,     1,     1,     1,     1,     1,     1,     1,\n",
              "             1,     1,     1,     1,     1,     1,     1,     1,     1,     1,\n",
              "             1,     1,     1,     1,     1,     1,     1,     1,     1,     1,\n",
              "             1,     1,     1,     1,     1,     1,     1,     1,     1,     1,\n",
              "             1,     1,     1,     1,     1,     1,     1,     1,     1,     1,\n",
              "             1,     1,     1,     1,     1,     1,     1,     1,     1,     1,\n",
              "             1,     1,     1,     1,     1,     1,     1,     1,     1,     1,\n",
              "             1,     1,     1,     1,     1,     1,     1,     1,     1,     1,\n",
              "             1,     1,     1,     1,     1,     1,     1,     1,     1,     1,\n",
              "             1,     1,     1,     1,     1,     1,     1,     1,     1,     1,\n",
              "             1,     1,     1,     1,     1,     1,     1,     1,     1,     1,\n",
              "             1,     1,     1,     1,     1,     1,     1,     1,     1,     1,\n",
              "             1,     1,     1,     1,     1,     1,     1,     1,     1,     1,\n",
              "             1,     1,     1,     1,     1,     1,     1,     1,     1,     1,\n",
              "             1,     1,     1,     1,     1,     1,     1,     1,     1,     1,\n",
              "             1,     1,     1,     1,     1,     1,     1,     1,     1,     1,\n",
              "             1,     1,     1,     1,     1,     1,     1,     1,     1,     1,\n",
              "             1,     1,     1,     1,     1,     1,     1,     1,     1,     1,\n",
              "             1,     1,     1,     1,     1,     1,     1,     1,     1,     1,\n",
              "             1,     1,     1,     1,     1,     1,     1,     1,     1,     1,\n",
              "             1,     1,     1,     1,     1,     1,     1,     1,     1,     1,\n",
              "             1,     1,     1,     1,     1,     1,     1,     1,     1,     1,\n",
              "             1,     1,     1,     1,     1,     1,     1,     1,     1,     1,\n",
              "             1,     1,     1,     1,     1,     1,     1,     1,     1,     1,\n",
              "             1,     1,     1,     1,     1,     1,     1,     1,     1,     1,\n",
              "             1,     1,     1,     1,     1,     1,     1,     1,     1,     1,\n",
              "             1,     1,     1,     1,     1,     1,     1,     1,     1,     1,\n",
              "             1,     1,     1,     1,     1,     1,     1,     1,     1,     1,\n",
              "             1,     1,     1,     1,     1,     1,     1,     1,     1,     1,\n",
              "             1,     1,     1,     1,     1,     1,     1,     1,     1,     1,\n",
              "             1,     1,     1,     1,     1,     1,     1,     1,     1,     1,\n",
              "             1,     1,     1,     1,     1,     1,     1,     1,     1,     1,\n",
              "             1,     1,     1,     1,     1,     1,     1,     1,     1,     1,\n",
              "             1,     1,     1,     1,     1,     1,     1,     1,     1,     1,\n",
              "             1,     1,     1,     1,     1,     1,     1,     1,     1,     1,\n",
              "             1,     1,     1,     1,     1,     1,     1,     1,     1,     1,\n",
              "             1,     1,     1,     1,     1,     1,     1,     1,     1,     1,\n",
              "             1,     1,     1,     1,     1,     1,     1,     1,     1,     1,\n",
              "             1,     1]])"
            ]
          },
          "metadata": {},
          "execution_count": 8
        }
      ]
    },
    {
      "cell_type": "code",
      "source": [
        "model_output=model.generate(sample_input_tensor)"
      ],
      "metadata": {
        "id": "YEEnYd67YNrX",
        "colab": {
          "base_uri": "https://localhost:8080/"
        },
        "outputId": "7cd955c1-7cf1-45a6-e0b3-ead0612c2979"
      },
      "execution_count": null,
      "outputs": [
        {
          "output_type": "stream",
          "name": "stderr",
          "text": [
            "/usr/local/lib/python3.9/dist-packages/transformers/generation/utils.py:1288: UserWarning: Using `max_length`'s default (20) to control the generation length. This behaviour is deprecated and will be removed from the config in v5 of Transformers -- we recommend using `max_new_tokens` to control the maximum length of the generation.\n",
            "  warnings.warn(\n"
          ]
        }
      ]
    },
    {
      "cell_type": "code",
      "source": [
        "bart_tokenizer.decode(model_output[0])"
      ],
      "metadata": {
        "colab": {
          "base_uri": "https://localhost:8080/",
          "height": 35
        },
        "id": "K1yEE_XdZ9SX",
        "outputId": "29686176-1994-457f-ee74-93058c6b6897"
      },
      "execution_count": null,
      "outputs": [
        {
          "output_type": "execute_result",
          "data": {
            "text/plain": [
              "'</s><s>Jesse Eisenberg in a scene with an actor.</s>'"
            ],
            "application/vnd.google.colaboratory.intrinsic+json": {
              "type": "string"
            }
          },
          "metadata": {},
          "execution_count": 10
        }
      ]
    },
    {
      "cell_type": "markdown",
      "source": [
        "## 3.2 Rouge loss"
      ],
      "metadata": {
        "id": "X0-8eCsCrnaE"
      }
    },
    {
      "cell_type": "code",
      "source": [
        "# Define the ROUGE scorer\n",
        "rouge = Rouge()\n",
        "\n",
        "# Define the custom loss function\n",
        "def rouge_loss(y_true, y_pred):\n",
        "    # Convert the token IDs to text\n",
        "    y_true_text = bart_tokenizer.decode(y_true.squeeze(), skip_special_tokens=True)\n",
        "    y_pred_text = bart_tokenizer.decode(y_pred.squeeze(), skip_special_tokens=True)\n",
        "    \n",
        "    # Compute the ROUGE score between the predicted and true summaries\n",
        "    scores = rouge.get_scores(y_pred_text, y_true_text)\n",
        "    rouge_score = scores[0]['rouge-l']['f']\n",
        "    \n",
        "    # Compute the loss as 1 - ROUGE score\n",
        "    loss = 1 - rouge_score\n",
        "    \n",
        "    return loss"
      ],
      "metadata": {
        "id": "B_Yvr4MCcFqm"
      },
      "execution_count": null,
      "outputs": []
    },
    {
      "cell_type": "code",
      "source": [
        "model_output[0]"
      ],
      "metadata": {
        "colab": {
          "base_uri": "https://localhost:8080/"
        },
        "id": "Zr_7t3L3r2Us",
        "outputId": "c52e1a1e-59b8-41df-841f-7b09e2ab9eff"
      },
      "execution_count": null,
      "outputs": [
        {
          "output_type": "execute_result",
          "data": {
            "text/plain": [
              "tensor([    2,     0, 42268,  1090, 27413,  2865,    11,    10,  1310,    19,\n",
              "           41,  2701,     4,     2])"
            ]
          },
          "metadata": {},
          "execution_count": 12
        }
      ]
    },
    {
      "cell_type": "code",
      "source": [
        "train_claim[0]"
      ],
      "metadata": {
        "colab": {
          "base_uri": "https://localhost:8080/"
        },
        "id": "zAGgCoTvsGwP",
        "outputId": "0fdacb32-392a-41ae-b8f0-79c4866b79ca"
      },
      "execution_count": null,
      "outputs": [
        {
          "output_type": "execute_result",
          "data": {
            "text/plain": [
              "tensor([    0, 42268,  1090, 27413,  2865,  1006,    19,    41,  2701,     4,\n",
              "            2,     1,     1,     1,     1,     1,     1,     1,     1,     1,\n",
              "            1,     1,     1,     1,     1,     1,     1,     1,     1,     1,\n",
              "            1,     1])"
            ]
          },
          "metadata": {},
          "execution_count": 13
        }
      ]
    },
    {
      "cell_type": "code",
      "source": [
        "rouge_loss(model_output[0], train_claim[0])"
      ],
      "metadata": {
        "colab": {
          "base_uri": "https://localhost:8080/"
        },
        "id": "sBsnv63CrqPe",
        "outputId": "67c26fff-52ba-4092-b3e3-fa1d50a6c0ed"
      },
      "execution_count": null,
      "outputs": [
        {
          "output_type": "execute_result",
          "data": {
            "text/plain": [
              "0.28571429061224485"
            ]
          },
          "metadata": {},
          "execution_count": 14
        }
      ]
    },
    {
      "cell_type": "code",
      "source": [
        "rouge_loss(train_claim[0], train_claim[0])"
      ],
      "metadata": {
        "colab": {
          "base_uri": "https://localhost:8080/"
        },
        "id": "P5A1aC-UsIXs",
        "outputId": "736ac7e4-91ba-42ae-ada2-04629b7b7255"
      },
      "execution_count": null,
      "outputs": [
        {
          "output_type": "execute_result",
          "data": {
            "text/plain": [
              "4.999999969612645e-09"
            ]
          },
          "metadata": {},
          "execution_count": 15
        }
      ]
    },
    {
      "cell_type": "markdown",
      "source": [
        "## 3.3 Dataset and Dataloader"
      ],
      "metadata": {
        "id": "yqVJiVyHs87K"
      }
    },
    {
      "cell_type": "code",
      "source": [
        "batch_size=64"
      ],
      "metadata": {
        "id": "nK9K6gi67E1_"
      },
      "execution_count": null,
      "outputs": []
    },
    {
      "cell_type": "code",
      "source": [
        "train_data = TensorDataset(train_input, train_claim)\n",
        "val_data = TensorDataset(val_input, val_claim)\n",
        "test_data = TensorDataset(test_input, test_claim)"
      ],
      "metadata": {
        "id": "7FN_cL6j674o"
      },
      "execution_count": null,
      "outputs": []
    },
    {
      "cell_type": "code",
      "source": [
        "train_loader = DataLoader(train_data, batch_size=batch_size, shuffle=True)\n",
        "val_loader = DataLoader(val_data, batch_size=batch_size, shuffle=False)\n",
        "test_loader = DataLoader(test_data, batch_size=batch_size, shuffle=False)"
      ],
      "metadata": {
        "id": "qsk4bZhU7AO0"
      },
      "execution_count": null,
      "outputs": []
    },
    {
      "cell_type": "markdown",
      "source": [
        "## 3.4 Fine tune"
      ],
      "metadata": {
        "id": "H_ZG3n_l7_M9"
      }
    },
    {
      "cell_type": "code",
      "source": [
        "num_epochs = 3"
      ],
      "metadata": {
        "id": "nJzlA-b_7UaC"
      },
      "execution_count": null,
      "outputs": []
    },
    {
      "cell_type": "code",
      "source": [
        "optimizer = AdamW(model.parameters(), lr=5e-5)\n",
        "loss_fn = nn.CrossEntropyLoss()"
      ],
      "metadata": {
        "colab": {
          "base_uri": "https://localhost:8080/"
        },
        "id": "hBhxQi7a8ExM",
        "outputId": "3fe78c05-bf7f-4495-c8f0-5758a50f73fb"
      },
      "execution_count": null,
      "outputs": [
        {
          "output_type": "stream",
          "name": "stderr",
          "text": [
            "/usr/local/lib/python3.9/dist-packages/transformers/optimization.py:391: FutureWarning: This implementation of AdamW is deprecated and will be removed in a future version. Use the PyTorch implementation torch.optim.AdamW instead, or set `no_deprecation_warning=True` to disable this warning\n",
            "  warnings.warn(\n"
          ]
        }
      ]
    },
    {
      "cell_type": "code",
      "source": [
        "train_loss_list = []\n",
        "val_loss_list = []"
      ],
      "metadata": {
        "id": "9UZDHuV-9Cgv"
      },
      "execution_count": null,
      "outputs": []
    },
    {
      "cell_type": "code",
      "source": [
        "# model = model.to(device)\n",
        "model.train()\n",
        "None"
      ],
      "metadata": {
        "id": "ARGPa7pks0e2"
      },
      "execution_count": null,
      "outputs": []
    },
    {
      "cell_type": "code",
      "source": [
        "for epoch in range(num_epochs):\n",
        "    train_loss = 0\n",
        "    for input_batch, claim_batch in train_loader:\n",
        "        optimizer.zero_grad()\n",
        "        outputs = model(input_ids=input_batch, labels=claim_batch)\n",
        "        loss = outputs[0]\n",
        "        loss.backward()\n",
        "        optimizer.step()\n",
        "        train_loss += loss.item()\n",
        "    train_loss /= len(train_loader)\n",
        "    train_loss_list.append(train_loss)\n",
        "    \n",
        "    val_loss = 0\n",
        "    with torch.no_grad():\n",
        "        for input_batch, claim_batch in val_loader:\n",
        "            outputs = model(input_ids=input_batch, labels=claim_batch)\n",
        "            loss = outputs[0]\n",
        "            val_loss += loss.item()\n",
        "        val_loss /= len(val_loader)\n",
        "        val_loss_list.append(val_loss)\n",
        "    \n",
        "    print(f\"Epoch {epoch + 1}: Train Loss = {train_loss:.4f}, Val Loss = {val_loss:.4f}\")"
      ],
      "metadata": {
        "id": "-vGFueIA8H6W",
        "colab": {
          "base_uri": "https://localhost:8080/"
        },
        "outputId": "438fd078-94f6-49a3-ac7c-969dc04b487f"
      },
      "execution_count": null,
      "outputs": [
        {
          "output_type": "stream",
          "name": "stdout",
          "text": [
            "Epoch 1: Train Loss = 0.3507, Val Loss = 0.1684\n",
            "Epoch 2: Train Loss = 0.1396, Val Loss = 0.1501\n",
            "Epoch 3: Train Loss = 0.1139, Val Loss = 0.1422\n"
          ]
        }
      ]
    },
    {
      "cell_type": "code",
      "source": [
        "model.save_pretrained('/content/drive/MyDrive/DeClare/models/2023-04-05-16-44')"
      ],
      "metadata": {
        "id": "04-ClXPnzt9B"
      },
      "execution_count": null,
      "outputs": []
    },
    {
      "cell_type": "code",
      "source": [
        "test_loss = 0\n",
        "with torch.no_grad():\n",
        "    for input_batch, claim_batch in test_loader:\n",
        "        outputs = model(input_ids=input_batch, labels=claim_batch)\n",
        "        loss = outputs[0]\n",
        "        test_loss += loss.item()\n",
        "    test_loss /= len(test_loader)"
      ],
      "metadata": {
        "id": "jgYNa9pu0uCz"
      },
      "execution_count": null,
      "outputs": []
    },
    {
      "cell_type": "code",
      "source": [
        "print(f'Test Loss = {test_loss:.4f}')"
      ],
      "metadata": {
        "colab": {
          "base_uri": "https://localhost:8080/"
        },
        "id": "l6AvDk6BWkW2",
        "outputId": "ccdac6d2-4bbe-4bef-9dd9-50713622662c"
      },
      "execution_count": null,
      "outputs": [
        {
          "output_type": "stream",
          "name": "stdout",
          "text": [
            "Test Loss = 0.1412\n"
          ]
        }
      ]
    },
    {
      "cell_type": "markdown",
      "source": [
        "## 3.5 Test it out!"
      ],
      "metadata": {
        "id": "BLmvrCchX2g2"
      }
    },
    {
      "cell_type": "code",
      "source": [
        "model.eval()\n",
        "None"
      ],
      "metadata": {
        "id": "juoXywzlZh3H"
      },
      "execution_count": null,
      "outputs": []
    },
    {
      "cell_type": "code",
      "source": [
        "claim = df.claim[0]\n",
        "text = df.text[0]\n",
        "print(claim)\n",
        "print(text)"
      ],
      "metadata": {
        "colab": {
          "base_uri": "https://localhost:8080/"
        },
        "id": "A2Zcpi1hW67y",
        "outputId": "48d61e5c-9ba1-4d9e-870a-0d2f614ce54d"
      },
      "execution_count": null,
      "outputs": [
        {
          "output_type": "stream",
          "name": "stdout",
          "text": [
            "Nikolaj Coster-Waldau worked with the Fox Broadcasting Company.\n",
            "Nikolaj Coster-Waldau -LRB- -LSB- neɡ̊olaɪ̯ kʰʌsd̥ɐ ˈʋald̥ɑʊ̯ -RSB- ; born 27 July 1970 -RRB- is a Danish actor , producer and screenwriter . He graduated from Danish National School of Theatre in Copenhagen in 1993 . Coster-Waldau 's breakthrough performance in Denmark was his role in the film Nightwatch -LRB- 1994 -RRB- . Since then he has appeared in numerous films in his native Scandinavia and Europe in general , including Headhunters -LRB- 2011 -RRB- and A Thousand Times Good Night -LRB- 2013 -RRB- .   In the United States , his debut film role was in the war film Black Hawk Down -LRB- 2001 -RRB- , playing Medal of Honor recipient Gary Gordon . He then played Detective John Amsterdam in the short-lived Fox television series New Amsterdam -LRB- 2008 -RRB- , as well as appearing as Frank Pike in the 2009 Fox television film Virtuality , originally intended as a pilot . He became widely known to a broad audience for his current role as Ser Jaime Lannister , in the HBO series Game of Thrones . In 2017 , he became one of the highest paid actors on television and earned # 2 million per episode of Game of Thrones . \n"
          ]
        }
      ]
    },
    {
      "cell_type": "code",
      "source": [
        "num_of_masked_sample = 5"
      ],
      "metadata": {
        "id": "LebbRMcGYxJb"
      },
      "execution_count": null,
      "outputs": []
    },
    {
      "cell_type": "code",
      "source": [
        "def pipeline(input_str):\n",
        "  input_tokens = torch.tensor([bart_tokenizer.encode(input_str)]).to(device)\n",
        "  output_tokens = model.generate(input_tokens)\n",
        "  output_str = bart_tokenizer.decode(output_tokens[0], skip_special_tokens=True)\n",
        "  return output_str"
      ],
      "metadata": {
        "id": "NxaQD1HnZGJY"
      },
      "execution_count": null,
      "outputs": []
    },
    {
      "cell_type": "markdown",
      "source": [
        "Mask Probability =0.5"
      ],
      "metadata": {
        "id": "nRO4ws4RYFw7"
      }
    },
    {
      "cell_type": "code",
      "source": [
        "masked_list = [mask_token(claim, bart_tokenizer, 0.5) for i in range(num_of_masked_sample)]\n",
        "for i in range(num_of_masked_sample):\n",
        "  print(masked_list[i])"
      ],
      "metadata": {
        "colab": {
          "base_uri": "https://localhost:8080/"
        },
        "id": "Vr4z1vfCYYn8",
        "outputId": "1186ba8d-707c-416e-c2a7-a9bf8456c1d7"
      },
      "execution_count": null,
      "outputs": [
        {
          "output_type": "stream",
          "name": "stdout",
          "text": [
            "<mask>ol<mask> Coster-Wald<mask><mask> with the Fox Broadcasting Company<mask>\n",
            "<mask>ol<mask> Coster<mask>Wald<mask> worked with the Fox Broadcasting Company<mask>\n",
            "Nikol<mask> Coster<mask>Waldau worked<mask> the Fox<mask><mask>.\n",
            "Nik<mask><mask><mask>oster-W<mask>au worked with<mask><mask><mask><mask>.\n",
            "<mask>olaj Coster<mask>Waldau worked<mask><mask> Fox Broadcasting Company<mask>\n"
          ]
        }
      ]
    },
    {
      "cell_type": "code",
      "source": [
        "input_list = [masked_claim + bart_tokenizer.sep_token + \n",
        "              text for masked_claim in masked_list]"
      ],
      "metadata": {
        "id": "jbr3yiKUY6yc"
      },
      "execution_count": null,
      "outputs": []
    },
    {
      "cell_type": "code",
      "source": [
        "print('Original claim: ' + claim)\n",
        "for i in range(num_of_masked_sample):\n",
        "  print('Regenerated claim', i, \n",
        "        pipeline(input_list[i]))"
      ],
      "metadata": {
        "colab": {
          "base_uri": "https://localhost:8080/"
        },
        "id": "12_ldpeBaMLK",
        "outputId": "fa769f18-691a-42ff-94fc-20a3ebf69578"
      },
      "execution_count": null,
      "outputs": [
        {
          "output_type": "stream",
          "name": "stdout",
          "text": [
            "Original claim: Nikolaj Coster-Waldau worked with the Fox Broadcasting Company.\n"
          ]
        },
        {
          "output_type": "stream",
          "name": "stderr",
          "text": [
            "/usr/local/lib/python3.9/dist-packages/transformers/generation/utils.py:1288: UserWarning: Using `max_length`'s default (20) to control the generation length. This behaviour is deprecated and will be removed from the config in v5 of Transformers -- we recommend using `max_new_tokens` to control the maximum length of the generation.\n",
            "  warnings.warn(\n"
          ]
        },
        {
          "output_type": "stream",
          "name": "stdout",
          "text": [
            "Regenerated claim 0 Nikolaj Coster-Waldau worked with the Fox Broadcasting Company.\n",
            "Regenerated claim 1 Nikolaj Coster-Waldau worked with the Fox Broadcasting Company.\n",
            "Regenerated claim 2 Nikolaj Coster-Waldau worked on the Fox television series.\n",
            "Regenerated claim 3 Nikolaj Coster-Waldau worked with an American screenwriter.\n",
            "Regenerated claim 4 Nikolaj Coster-Waldau worked with the Fox Broadcasting Company.\n"
          ]
        }
      ]
    },
    {
      "cell_type": "markdown",
      "source": [
        "Mask Probability =0.7"
      ],
      "metadata": {
        "id": "yyzUwOHygtDW"
      }
    },
    {
      "cell_type": "code",
      "source": [
        "masked_list = [mask_token(claim, bart_tokenizer, 0.7) for i in range(num_of_masked_sample)]\n",
        "for i in range(num_of_masked_sample):\n",
        "  print(masked_list[i])"
      ],
      "metadata": {
        "colab": {
          "base_uri": "https://localhost:8080/"
        },
        "outputId": "2a8bcb72-a5ba-492f-ceaa-b79dc33277c7",
        "id": "eI1iXPIEgkZB"
      },
      "execution_count": null,
      "outputs": [
        {
          "output_type": "stream",
          "name": "stdout",
          "text": [
            "<mask><mask><mask><mask><mask><mask>Waldau<mask> with<mask><mask><mask><mask><mask>\n",
            "<mask><mask>aj<mask>oster<mask><mask><mask><mask> worked<mask><mask> Fox<mask> Company<mask>\n",
            "<mask>ol<mask><mask>oster<mask>W<mask><mask> worked with<mask> Fox<mask><mask>.\n",
            "<mask><mask>aj<mask><mask><mask><mask>ald<mask> worked<mask> the Fox<mask><mask><mask>\n",
            "<mask>olaj C<mask>-Wald<mask><mask><mask><mask><mask><mask> Company<mask>\n"
          ]
        }
      ]
    },
    {
      "cell_type": "code",
      "source": [
        "input_list = [masked_claim + bart_tokenizer.sep_token + \n",
        "              text for masked_claim in masked_list]"
      ],
      "metadata": {
        "id": "CbV8GJIPgkZG"
      },
      "execution_count": null,
      "outputs": []
    },
    {
      "cell_type": "code",
      "source": [
        "print('Original claim: ' + claim)\n",
        "for i in range(num_of_masked_sample):\n",
        "  print('Regenerated claim', i, \n",
        "        pipeline(input_list[i]))"
      ],
      "metadata": {
        "colab": {
          "base_uri": "https://localhost:8080/"
        },
        "outputId": "9c37dcb9-baf6-4b37-895d-8fa474de6bee",
        "id": "g4WyjDdygkZG"
      },
      "execution_count": null,
      "outputs": [
        {
          "output_type": "stream",
          "name": "stdout",
          "text": [
            "Original claim: Nikolaj Coster-Waldau worked with the Fox Broadcasting Company.\n",
            "Regenerated claim 0 Nikolaj Coster-Waldau worked with a Danish screenwriter.\n",
            "Regenerated claim 1 Nikolaj Coster-Waldau worked with the Fox Film Company.\n",
            "Regenerated claim 2 Nikolaj Coster-Waldau worked with the Fox television series.\n",
            "Regenerated claim 3 Nikolaj Coster-Waldau worked on the Fox television series.\n",
            "Regenerated claim 4 Nikolaj Coster-Waldau worked with the Walt Disney Company.\n"
          ]
        }
      ]
    },
    {
      "cell_type": "code",
      "source": [],
      "metadata": {
        "id": "xVQxg4Weg_sm"
      },
      "execution_count": null,
      "outputs": []
    }
  ]
}